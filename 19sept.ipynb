{
 "cells": [
  {
   "cell_type": "code",
   "execution_count": 12,
   "id": "c5d5cfb0-6eb2-4bc3-862b-a9d8b94b2e5c",
   "metadata": {},
   "outputs": [
    {
     "name": "stdout",
     "output_type": "stream",
     "text": [
      "[1, 4, 5, 6, 7, 3, 2]\n"
     ]
    }
   ],
   "source": [
    "List = [1, 4, 5, 6, 7, 4, 3, 2, 1]\n",
    "new_list = []\n",
    "for i in List:\n",
    "    if i not in new_list:\n",
    "        new_list.append(i)  \n",
    "print(new_list)"
   ]
  },
  {
   "cell_type": "code",
   "execution_count": 18,
   "id": "76fb0b99-2ad5-445f-8c0b-7dbed22df98c",
   "metadata": {},
   "outputs": [
    {
     "name": "stdout",
     "output_type": "stream",
     "text": [
      "{'rahul': 2, 'rakesh': 2, 'rohan': 1}\n"
     ]
    }
   ],
   "source": [
    "# write a program that counts how many times each word appears in a given list using the dictionary\n",
    "mylist=[\"rahul\",\"rakesh\",\"rohan\",\"rahul\",\"rakesh\"]\n",
    "mydict={}\n",
    "for n in mylist:\n",
    "    if n in mydict:\n",
    "        mydict[n]+=1\n",
    "    else:\n",
    "        mydict[n]=1\n",
    "print(mydict)"
   ]
  },
  {
   "cell_type": "code",
   "execution_count": 30,
   "id": "15dfd20d-0195-42cd-a25f-26680972c0f3",
   "metadata": {},
   "outputs": [
    {
     "name": "stdout",
     "output_type": "stream",
     "text": [
      "87\n"
     ]
    }
   ],
   "source": [
    "# write a function that finds the maximum nuber in a list without using max()\n",
    "nums=[12,14,5,6,78,9,87,45]\n",
    "max_num=nums[0]\n",
    "for num in nums[1:]:\n",
    "    if num>max_num:\n",
    "        max_num=num\n",
    "print(max_num)\n",
    "    "
   ]
  },
  {
   "cell_type": "code",
   "execution_count": 32,
   "id": "8520c755-de85-4483-910f-6126768ac77a",
   "metadata": {},
   "outputs": [
    {
     "name": "stdout",
     "output_type": "stream",
     "text": [
      "An error occurred while processing the request.\n",
      "Another log without error.\n",
      "ERROR: This should not match since it’s case sensitive\n"
     ]
    }
   ],
   "source": [
    " with open(\"C:/Users/SAMSUNG/Documents/satya.txt\") as file:\n",
    "     for line in file:\n",
    "         if \"error\" in line.lower():\n",
    "             print(line.strip())"
   ]
  },
  {
   "cell_type": "code",
   "execution_count": null,
   "id": "f3f0fdec-d0fb-4523-b929-7726b17a77b2",
   "metadata": {},
   "outputs": [],
   "source": [
    "# Given a list of words ,g"
   ]
  }
 ],
 "metadata": {
  "kernelspec": {
   "display_name": "Python [conda env:base] *",
   "language": "python",
   "name": "conda-base-py"
  },
  "language_info": {
   "codemirror_mode": {
    "name": "ipython",
    "version": 3
   },
   "file_extension": ".py",
   "mimetype": "text/x-python",
   "name": "python",
   "nbconvert_exporter": "python",
   "pygments_lexer": "ipython3",
   "version": "3.13.5"
  }
 },
 "nbformat": 4,
 "nbformat_minor": 5
}
