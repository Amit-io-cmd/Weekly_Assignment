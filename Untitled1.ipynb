{
 "cells": [
  {
   "cell_type": "code",
   "execution_count": 4,
   "id": "1f6dd592-d76a-49eb-b4c9-e4e411e4b7c9",
   "metadata": {},
   "outputs": [
    {
     "name": "stdout",
     "output_type": "stream",
     "text": [
      "1\n",
      "2\n",
      "3\n"
     ]
    }
   ],
   "source": [
    "mylist=[1,2,3,4,5,6,]\n",
    "for x in mylist:\n",
    "    print(x)\n",
    "    if x==3:\n",
    "        break\n",
    "    "
   ]
  },
  {
   "cell_type": "code",
   "execution_count": 6,
   "id": "b41997cb-ad91-4c9a-b520-509b2b9fe2e5",
   "metadata": {},
   "outputs": [
    {
     "name": "stdout",
     "output_type": "stream",
     "text": [
      "1\n",
      "1\n",
      "2\n",
      "2\n",
      "3\n",
      "4\n",
      "4\n",
      "5\n",
      "5\n",
      "6\n",
      "6\n"
     ]
    }
   ],
   "source": [
    "mylist=[1,2,3,4,5,6,]\n",
    "for x in mylist:\n",
    "    print(x)\n",
    "    if x==3:\n",
    "        continue\n",
    "    print(x)\n",
    "    "
   ]
  },
  {
   "cell_type": "code",
   "execution_count": 7,
   "id": "9376ef97-8ca1-42b0-b8f5-9f9b31f61edd",
   "metadata": {},
   "outputs": [
    {
     "name": "stdout",
     "output_type": "stream",
     "text": [
      "1\n",
      "2\n",
      "4\n",
      "5\n",
      "6\n"
     ]
    }
   ],
   "source": [
    "mylist=[1,2,3,4,5,6,]\n",
    "for x in mylist:\n",
    "    if x==3:\n",
    "        continue\n",
    "    print(x)\n",
    "    "
   ]
  },
  {
   "cell_type": "code",
   "execution_count": null,
   "id": "5a8a767b-31bd-4e9c-b454-0285fd5a4e73",
   "metadata": {},
   "outputs": [],
   "source": [
    "mylist=[1,2,3,4,5,6,]\n",
    "for x in range mylist:\n",
    "    print(x)\n",
    "    if x==3:\n",
    "        continue\n",
    "    print(x)\n",
    "    "
   ]
  },
  {
   "cell_type": "code",
   "execution_count": 8,
   "id": "79b3d5db-8e3c-410f-a064-f1dd1ccb856d",
   "metadata": {},
   "outputs": [
    {
     "name": "stdout",
     "output_type": "stream",
     "text": [
      "0\n",
      "1\n",
      "2\n",
      "3\n",
      "4\n"
     ]
    }
   ],
   "source": [
    "r=range(5)\n",
    "for i in r:\n",
    "    print(i)"
   ]
  },
  {
   "cell_type": "code",
   "execution_count": 9,
   "id": "b0303245-bc54-4ee9-8fe2-ecff59568570",
   "metadata": {},
   "outputs": [
    {
     "name": "stdout",
     "output_type": "stream",
     "text": [
      "1\n",
      "2\n",
      "3\n",
      "4\n"
     ]
    }
   ],
   "source": [
    "r=range(1,5)\n",
    "for i in r:\n",
    "    print(i)"
   ]
  },
  {
   "cell_type": "code",
   "execution_count": 10,
   "id": "c15f38ce-c16c-44bf-8f08-d2115e3df0da",
   "metadata": {},
   "outputs": [
    {
     "name": "stdout",
     "output_type": "stream",
     "text": [
      "1\n",
      "3\n"
     ]
    }
   ],
   "source": [
    "r=range(1,5,2)\n",
    "for i in r:\n",
    "    print(i)"
   ]
  },
  {
   "cell_type": "code",
   "execution_count": 11,
   "id": "92f8c19c-8f8d-41a3-98a2-11647fd3aa9f",
   "metadata": {},
   "outputs": [
    {
     "name": "stdout",
     "output_type": "stream",
     "text": [
      "1\n",
      "2\n",
      "3\n",
      "4\n",
      "5\n",
      "6\n"
     ]
    }
   ],
   "source": [
    "for i in range(len(mylist)):\n",
    "    print(mylist[i])"
   ]
  },
  {
   "cell_type": "code",
   "execution_count": 17,
   "id": "a82daf59-e71f-4a33-97c7-a222ac1b475b",
   "metadata": {},
   "outputs": [
    {
     "name": "stdout",
     "output_type": "stream",
     "text": [
      "['java', 'haskell']\n"
     ]
    }
   ],
   "source": [
    "newlist=[]\n",
    "mylist=['Python','c','java','haskell']\n",
    "#create a new list from mylist that contains only those items containing the letter a\n",
    "for i in mylist:\n",
    "    if 'a' in i:\n",
    "        newlist.append(i)\n",
    "print(newlist)"
   ]
  },
  {
   "cell_type": "raw",
   "id": "60e4b081-beb1-4b27-8f72-08ff52e41468",
   "metadata": {},
   "source": [
    "j"
   ]
  },
  {
   "cell_type": "code",
   "execution_count": 27,
   "id": "5c0a7ea0-1e29-4ad6-bf79-9f84ce356d6b",
   "metadata": {},
   "outputs": [
    {
     "name": "stdout",
     "output_type": "stream",
     "text": [
      "HEllo!\n",
      "on this iteration,i is set to 0\n",
      "on this iteration,i is set to 1\n",
      "on this iteration,i is set to 2\n",
      "on this iteration,i is set to 3\n",
      "on this iteration,i is set to 4\n",
      "Goodbye!\n"
     ]
    }
   ],
   "source": [
    "print('HEllo!')\n",
    "i=0\n",
    "while i<5:\n",
    "     print('on this iteration,i is set to ' +str(i))\n",
    "     i=i+1\n",
    "print('Goodbye!')\n",
    "\n"
   ]
  },
  {
   "cell_type": "code",
   "execution_count": 70,
   "id": "9368f73d-9d10-4288-8b7a-f1b409a8b0f9",
   "metadata": {},
   "outputs": [
    {
     "name": "stdout",
     "output_type": "stream",
     "text": [
      "Words with no vowels: ['c']\n",
      "Words with exactly two vowels: ['java', 'haskell']\n"
     ]
    }
   ],
   "source": [
    "# Create a new list from mylist  which is having no vowels also try for a list having only two vowels\n",
    "no_vowels_list = []  # List with words having no vowels\n",
    "two_vowels_list = []  # List with words having exactly two vowels\n",
    "vowels = ['a', 'e', 'i', 'o', 'u']\n",
    "mylist = ['Python', 'c', 'java', 'haskell']\n",
    "\n",
    "for word in mylist:\n",
    "    # Count vowels in the word\n",
    "    vowel_count = 0\n",
    "    for ch in word:\n",
    "        if ch.lower() in vowels:\n",
    "            vowel_count += 1\n",
    "    \n",
    "    # Check conditions and append to appropriate lists\n",
    "    if vowel_count == 0:\n",
    "        no_vowels_list.append(word)\n",
    "    if vowel_count == 2:\n",
    "        two_vowels_list.append(word)\n",
    "\n",
    "print(\"Words with no vowels:\", no_vowels_list)\n",
    "print(\"Words with exactly two vowels:\", two_vowels_list)"
   ]
  },
  {
   "cell_type": "code",
   "execution_count": 63,
   "id": "7a076fbe-eb3f-48b6-8f39-0b0f66467e90",
   "metadata": {},
   "outputs": [
    {
     "name": "stdout",
     "output_type": "stream",
     "text": [
      "5050\n"
     ]
    }
   ],
   "source": [
    "total=0\n",
    "for n in range(101):\n",
    "    total=total+n\n",
    "print(total)\n",
    "    "
   ]
  },
  {
   "cell_type": "code",
   "execution_count": 64,
   "id": "14411c13-4d0c-4f37-b4fd-cc10df652438",
   "metadata": {},
   "outputs": [
    {
     "name": "stdin",
     "output_type": "stream",
     "text": [
      "input a vowel character: o\n"
     ]
    },
    {
     "name": "stdout",
     "output_type": "stream",
     "text": [
      "o\n"
     ]
    },
    {
     "name": "stdin",
     "output_type": "stream",
     "text": [
      "input a vowel character: e\n"
     ]
    },
    {
     "name": "stdout",
     "output_type": "stream",
     "text": [
      "e\n"
     ]
    },
    {
     "name": "stdin",
     "output_type": "stream",
     "text": [
      "input a vowel character: q\n"
     ]
    },
    {
     "name": "stdout",
     "output_type": "stream",
     "text": [
      "not a vowel\n"
     ]
    }
   ],
   "source": [
    "while True:\n",
    "    ch=input(\"input a vowel character:\")\n",
    "    if ch in 'aeiouAEIOU':\n",
    "        print(ch)\n",
    "    else:\n",
    "        print(\"not a vowel\")\n",
    "        break"
   ]
  },
  {
   "cell_type": "code",
   "execution_count": 4,
   "id": "43d5b53d-4dc0-4aa9-bb91-570db36ce78b",
   "metadata": {},
   "outputs": [
    {
     "data": {
      "text/plain": [
       "['Hello ', '  how', ' are you?']"
      ]
     },
     "execution_count": 4,
     "metadata": {},
     "output_type": "execute_result"
    }
   ],
   "source": [
    "p=\"Hello ,  how, are you?\"\n",
    "p.split(\",\")"
   ]
  },
  {
   "cell_type": "code",
   "execution_count": 8,
   "id": "8ba27088-f053-4647-bbe0-c500b8834eda",
   "metadata": {},
   "outputs": [
    {
     "data": {
      "text/plain": [
       "' hello'"
      ]
     },
     "execution_count": 8,
     "metadata": {},
     "output_type": "execute_result"
    }
   ],
   "source": [
    "mys=\" hello \"\n",
    "mys.rstrip()"
   ]
  },
  {
   "cell_type": "code",
   "execution_count": null,
   "id": "c38c9cff-75ef-490b-9370-e902a0891121",
   "metadata": {},
   "outputs": [],
   "source": [
    "# if we use with open to open a file there is no need to close it \n",
    "# with open(\"demo.txt\") as f:\n",
    "#         r=f.read\n",
    "#         print(r)"
   ]
  },
  {
   "cell_type": "code",
   "execution_count": null,
   "id": "8a9fd01f-7533-4635-a80c-efc5ab30cf74",
   "metadata": {},
   "outputs": [],
   "source": [
    "# with open(\"demo.txt\",\"r\") as f:\n",
    "#    r=f.read\n",
    "#    print(r)"
   ]
  }
 ],
 "metadata": {
  "kernelspec": {
   "display_name": "Python [conda env:base] *",
   "language": "python",
   "name": "conda-base-py"
  },
  "language_info": {
   "codemirror_mode": {
    "name": "ipython",
    "version": 3
   },
   "file_extension": ".py",
   "mimetype": "text/x-python",
   "name": "python",
   "nbconvert_exporter": "python",
   "pygments_lexer": "ipython3",
   "version": "3.13.5"
  }
 },
 "nbformat": 4,
 "nbformat_minor": 5
}
