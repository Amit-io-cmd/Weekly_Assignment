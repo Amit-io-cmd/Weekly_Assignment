{
 "cells": [
  {
   "cell_type": "code",
   "execution_count": null,
   "metadata": {},
   "outputs": [],
   "source": [
    "# LISTS ARE CONTAINERS\n",
    "# IT IS AN ORDERED SEQUENCE i.e EACH ITEM IS STORED AT UNIQUE INDEX\n",
    "# Hetrogeneous \n",
    "# LISTS ARE MUTABLE i.e it is modifiable inplace.\n",
    "# that is if you modify an element of a list a new list will not be created\n",
    "# INDEX CAN BE POSITIVE OR NEGATIVE(FORWARD/REVERSE INDEX)"
   ]
  },
  {
   "cell_type": "code",
   "execution_count": 1,
   "metadata": {},
   "outputs": [
    {
     "name": "stdout",
     "output_type": "stream",
     "text": [
      "[1, 2, 3, 4, 5]\n",
      "['ARUN', 'GOVIND', 'SANJAY', 'ANSHIKA']\n",
      "[[1, 2, 3, 4, 5], ['ARUN', 'GOVIND', 'SANJAY', 'ANSHIKA']]\n"
     ]
    }
   ],
   "source": [
    "# FOR EXAMPLE \n",
    "nums=[1,2,3,4,5]\n",
    "name=['ARUN','GOVIND','SANJAY','ANSHIKA']\n",
    "values=[5.6,'KHUSHI',23]\n",
    "mix=[nums,name] # IT IS A NESTED LIST(LIST INSIDE A LIST)\n",
    "print(nums)\n",
    "print(name)\n",
    "print(mix)"
   ]
  },
  {
   "cell_type": "code",
   "execution_count": null,
   "metadata": {},
   "outputs": [],
   "source": [
    "# CREATING A LIST\n",
    "l=[]# an empty list\n",
    "l=list() # list constructor/an empty list \n",
    "l=list(input(\"enter numbers:\"))# this will create a string list\n",
    "print(l)\n",
    "l1=list(eval(input(\"enter numbers:\")))# this will create numeric list\n",
    "print(l1)\n",
    "l2=list(\"sanjay\")\n",
    "l3=list(eval(\"sanjay\"))\n",
    "print(l3)\n",
    "print(l2)\n",
    "print(l)"
   ]
  },
  {
   "cell_type": "code",
   "execution_count": null,
   "metadata": {},
   "outputs": [],
   "source": [
    "# accessing an element of a list\n",
    "nums=[1,2,3,4,5]\n",
    "name=['ARUN','GOVIND','SANJAY','ANSHIKA']\n",
    "print(nums[0])\n",
    "print(name[-1])\n",
    "\n",
    "# modifying value at particular index as list is mutable \n",
    "#whereas tuples and strings are immutable\n",
    "print(nums)\n",
    "nums[0]=30\n",
    "print(nums)"
   ]
  },
  {
   "cell_type": "code",
   "execution_count": null,
   "metadata": {},
   "outputs": [],
   "source": [
    "# CREATING A LIST\n",
    "l=[]# empty list\n",
    "l=list() # list constructor\n",
    "l=list(input(\"enter numbers:\"))\n",
    "print(l)\n",
    "l1=list(eval(input(\"enter numbers:\")))\n",
    "print(l1)\n",
    "l2=list(\"sanjay\")\n",
    "print(l2)"
   ]
  },
  {
   "cell_type": "code",
   "execution_count": null,
   "metadata": {},
   "outputs": [],
   "source": [
    "# traversing a list\n",
    "l=[1,2,3,4,5]\n",
    "for i in l:\n",
    "    print(i)\n",
    "l1=len(l)\n",
    "print('*'*20)\n",
    "for i in range(l1):\n",
    "    print(l[i])\n"
   ]
  },
  {
   "cell_type": "code",
   "execution_count": 5,
   "metadata": {},
   "outputs": [
    {
     "name": "stdout",
     "output_type": "stream",
     "text": [
      "element at index 0 is a and at index -5 is a\n",
      "element at index 1 is e and at index -4 is e\n",
      "element at index 2 is i and at index -3 is i\n",
      "element at index 3 is o and at index -2 is o\n",
      "element at index 4 is u and at index -1 is u\n"
     ]
    }
   ],
   "source": [
    "# print index value(both positive and negative)alongwith its value\n",
    "vowels=['a','e','i','o','u']\n",
    "length=len(vowels)\n",
    "for i in range(length):\n",
    "    print(\"element at index\",i,\"is\",vowels[i],\"and at index\",i-length,\"is\",vowels[i-length])"
   ]
  },
  {
   "cell_type": "code",
   "execution_count": 11,
   "metadata": {},
   "outputs": [
    {
     "name": "stdout",
     "output_type": "stream",
     "text": [
      "True\n",
      "False\n",
      "False\n"
     ]
    }
   ],
   "source": [
    "# comparison of two lists \n",
    "# notice for comparison purposes, python ignored the types of elements and compared values only\n",
    "# for two lists two be equal , they must have same number of elements and matching values\n",
    "# (int and float are considered equal for matching purposes only)\n",
    "l1=[1,2,3]\n",
    "l2=[1,2,3]\n",
    "#print(l1==l2) # True\n",
    "l3=[9,2]\n",
    "#print(l1<l3)# True\n",
    "l4=[1,[2,3]]\n",
    "#print(l1<l4)# error not supported type(int and list can't be compared)\n",
    "l5=[1.0,2.0,3.0]\n",
    "print(l1==l5)# True compares only numeric values not decimal\n",
    "l6=['1','2','3']\n",
    "print(l1==l6) # False\n",
    "print(l1>l5)# False"
   ]
  },
  {
   "cell_type": "code",
   "execution_count": 17,
   "metadata": {},
   "outputs": [
    {
     "ename": "TypeError",
     "evalue": "can only concatenate list (not \"str\") to list",
     "output_type": "error",
     "traceback": [
      "\u001b[1;31m---------------------------------------------------------------------------\u001b[0m",
      "\u001b[1;31mTypeError\u001b[0m                                 Traceback (most recent call last)",
      "\u001b[1;32m<ipython-input-17-6938a89fc0fc>\u001b[0m in \u001b[0;36m<module>\u001b[1;34m\u001b[0m\n\u001b[0;32m     16\u001b[0m \u001b[1;31m#print(a)\u001b[0m\u001b[1;33m\u001b[0m\u001b[1;33m\u001b[0m\u001b[1;33m\u001b[0m\u001b[0m\n\u001b[0;32m     17\u001b[0m \u001b[0ma\u001b[0m\u001b[1;33m=\u001b[0m\u001b[1;33m[\u001b[0m\u001b[1;36m1\u001b[0m\u001b[1;33m,\u001b[0m\u001b[1;36m2\u001b[0m\u001b[1;33m,\u001b[0m\u001b[1;36m3\u001b[0m\u001b[1;33m]\u001b[0m\u001b[1;33m\u001b[0m\u001b[1;33m\u001b[0m\u001b[0m\n\u001b[1;32m---> 18\u001b[1;33m \u001b[0mprint\u001b[0m\u001b[1;33m(\u001b[0m\u001b[0ma\u001b[0m\u001b[1;33m+\u001b[0m\u001b[1;34m\"6tytytyy\"\u001b[0m\u001b[1;33m)\u001b[0m\u001b[1;33m\u001b[0m\u001b[1;33m\u001b[0m\u001b[0m\n\u001b[0m\u001b[0;32m     19\u001b[0m \u001b[0ma\u001b[0m\u001b[1;33m+=\u001b[0m\u001b[1;34m\"vidyagyan\"\u001b[0m\u001b[1;33m\u001b[0m\u001b[1;33m\u001b[0m\u001b[0m\n\u001b[0;32m     20\u001b[0m \u001b[0mprint\u001b[0m\u001b[1;33m(\u001b[0m\u001b[0ma\u001b[0m\u001b[1;33m)\u001b[0m\u001b[1;33m\u001b[0m\u001b[1;33m\u001b[0m\u001b[0m\n",
      "\u001b[1;31mTypeError\u001b[0m: can only concatenate list (not \"str\") to list"
     ]
    }
   ],
   "source": [
    "# list operations\n",
    "# joining two lists/concatenation\n",
    "a=[12,13,4]\n",
    "b=[3,6,12]\n",
    "#print(a+b)\n",
    "c=a+b\n",
    "#print(c)\n",
    "#print(a)\n",
    "# note with + operator both the operand must be same typei.e list +list\n",
    "# You will get an error if you perform the following operations\n",
    "#print(a+3) # error\n",
    "#print(a+\"c\") # error\n",
    "#print(a+(3+4j)) # error\n",
    "a+=\"sanjay\"  # very important\n",
    "# += is used with lists requires the operand on the right to be an iterable\n",
    "#print(a)\n",
    "a=[1,2,3]\n",
    "print(a+\"6tytytyy\")\n",
    "a+=\"vidyagyan\"\n",
    "print(a)"
   ]
  },
  {
   "cell_type": "code",
   "execution_count": 1,
   "metadata": {},
   "outputs": [
    {
     "name": "stdout",
     "output_type": "stream",
     "text": [
      "[1, 2, 3, 1, 2, 3, 1, 2, 3]\n",
      "['a', 'b', 'c', 'a', 'b', 'c']\n",
      "[1, 2, 3, 1, 2, 3, 1, 2, 3]\n",
      "[1, 2, 3]\n"
     ]
    }
   ],
   "source": [
    "# Replication operator '*'\n",
    "a=[1,2,3]\n",
    "x=['a','b','c']\n",
    "b=a*3\n",
    "print(b)\n",
    "print(x*2)\n",
    "print(a*3)\n",
    "print(a)\n"
   ]
  },
  {
   "cell_type": "code",
   "execution_count": null,
   "metadata": {},
   "outputs": [],
   "source": [
    "l=[1,2,3]\n",
    "b=l.copy()\n",
    "c=list(b)\n",
    "print(b)\n",
    "b[0]=10\n",
    "print(b)\n",
    "print(l)\n",
    "print(c)"
   ]
  },
  {
   "cell_type": "code",
   "execution_count": 9,
   "metadata": {},
   "outputs": [
    {
     "name": "stdout",
     "output_type": "stream",
     "text": [
      "['v ', 'i', ' d', ' y', ' a', 'g', ' y', 'a', ' n']\n",
      "<class 'list'>\n",
      "['s', 'a', 'n', 'j', 'a', 'y']\n"
     ]
    }
   ],
   "source": [
    "x=\"v #i# d# y# a#g# y#a# n\"\n",
    "y=x.split('#')\n",
    "print(y)\n",
    "print(type(y))\n",
    "a=\"s---a---n---j---a---y\"\n",
    "b=a.split('---')\n",
    "print(b)"
   ]
  },
  {
   "cell_type": "code",
   "execution_count": 30,
   "metadata": {},
   "outputs": [
    {
     "name": "stdout",
     "output_type": "stream",
     "text": [
      "[10, 12, 14, 20, 22, 24, 30]\n"
     ]
    }
   ],
   "source": [
    "L=[10,12,14,20,22,24,30,32,34]\n",
    "print(L[-15:7])"
   ]
  },
  {
   "cell_type": "code",
   "execution_count": null,
   "metadata": {},
   "outputs": [],
   "source": [
    "# List slicing syntax <List Object>[start:stop:step]\n",
    "# start till stop(excluding stop ) +step: forward,  -step:backward\n",
    "x=\"c-o-m-p-u-t-e-r\"\n",
    "x1=x.split('-')\n",
    "print(x1)\n",
    "print(\"x1[:]=\",end=\" \")\n",
    "print(x1[0:])\n",
    "print(\"x1[2:5]=\",end=\" \")\n",
    "print(x1[2:5])\n",
    "L=[10,12,14,20,22,24,30,32,34]\n",
    "print(\"L[1:8:2]=\",end=\"\")\n",
    "print(L[1:8:2])\n",
    "print(\"L[::-1]=\",end=\"\")\n",
    "print(L[::-1])# reverse of a list( but original list will remain as it is)\n",
    "print(\"L[3:30]=\",end=\"\")\n",
    "print(L[3:30]) # note upper limit is way beyond size\n",
    "               #of the list but you will not get an error\n",
    "#print(L[30])# accessing individual element with out of bound index will give you an error\n",
    "print(\"L[-15:7]=\",end=\"\")\n",
    "# lower limit is not present in the original \n",
    "#list but slice will not give you an error\n",
    "print(L[-15:7])\n",
    "# if both indexes are out of bounds you will get an empty list\n",
    "print(\"L[10:20]=\",end=\"\")\n",
    "print(L[10:20])\n",
    "L1=[10,12,[14,20,22,24],30,32,34]\n",
    "print(\"L1[0:3]\",end=\"\")\n",
    "print(L1[0:3])\n",
    "print(\"L1[::-2]=\",end=\"\")# every second element from last index\n",
    "print(L1[::-2])\n",
    "print(\"L1[::2]=\",end=\"\")# alternate element from zero index\n",
    "print(L1[::2])\n",
    "L=[10,12,14,20,22,24,30,32,34]\n",
    "print(L[-15:7])\n",
    "L1=[10,12,[14,20,22,24],30,32,34]"
   ]
  },
  {
   "cell_type": "code",
   "execution_count": 10,
   "metadata": {},
   "outputs": [
    {
     "name": "stdout",
     "output_type": "stream",
     "text": [
      "[1, 2, 3, 4, 5]\n",
      "['sanjay', 1, 2, 3, 4, 5]\n",
      "['sanjay', 1, 2, [4, 5], 3, 4, 5]\n",
      "6\n",
      "2\n",
      "['sanjay', 1, 2, [4, 5], 3, 4, 5, 10, 20, 30]\n",
      "None\n"
     ]
    }
   ],
   "source": [
    "# List methods\n",
    "# <list object>.append(item) adds only one element at the end of list\n",
    "lst=[1,2,3,4]\n",
    "lst.append(5)\n",
    "print(lst)\n",
    "# insert(index,item) adds only one element at the specified index\n",
    "lst.insert(0,\"sanjay\")\n",
    "print(lst)\n",
    "lst.insert(3,[4,5])\n",
    "print(lst)\n",
    "# index()returns the index of specified element of the list\n",
    "print(lst.index(5))\n",
    "print(lst.index(2))\n",
    "# extend() adds multiple elements (given in the form of a list).\n",
    "# Never used to add Single element\n",
    "t1=[10,20,30]\n",
    "lst.extend(t1)\n",
    "print(lst)\n",
    "#lst.extend(34) #Important: this will give you an error as it takes\n",
    "               # multiple elements in the form of a list\n",
    "t3=lst.extend(t1)\n",
    "print(t3)\n",
    "\n"
   ]
  },
  {
   "cell_type": "code",
   "execution_count": 11,
   "metadata": {},
   "outputs": [
    {
     "name": "stdout",
     "output_type": "stream",
     "text": [
      "[1, 2, 3, 4, 6, 7]\n",
      "[6, 7]\n",
      "None\n",
      "[6, 7, 1, 2, 3, 4, 6, 7]\n"
     ]
    }
   ],
   "source": [
    "a=[1,2,3,4]\n",
    "b=[6,7]\n",
    "c=a.extend(b)\n",
    "print(a)\n",
    "print(b)\n",
    "print(c)\n",
    "b.extend(a)\n",
    "print(b)\n"
   ]
  },
  {
   "cell_type": "code",
   "execution_count": null,
   "metadata": {},
   "outputs": [],
   "source": [
    "lst=[1,2,3,4]\n",
    "t1=[5,6]\n",
    "t3=lst.extend(t1)# trying to assign lst.extend() result to t3.\n",
    "                 # here lst is extended with t1\n",
    "                 # but t1 is not modified and t3 is empty this is the \n",
    "                  # reason it is returning None\n",
    "print(t3)\n",
    "print(lst)\n",
    "# pop() remove last element from the list if index is not provided and \n",
    "# return the deleted element also\n",
    "print(lst.pop())\n",
    "x=lst.pop()\n",
    "print(x)\n",
    "print(lst.pop(1))#will remove item at index 2\n",
    "\n",
    "# remove()# delete first occurence of element with value and does not return\n",
    "# if you try to remove an element that is not present, you will get an error\n",
    "print(lst)\n",
    "lst.remove(3)\n",
    "print(lst)\n",
    "#lst.pop(3)# 3 is an invalid index \n",
    "          # with pop() also if you specify an invalid index\n",
    "          # you will get an error\n",
    "#lst.clear() will make the list empty[]\n",
    "#count(item) returns frequency of given item\n",
    "L=[10,12,12,12,20,22,24,30,32,34]\n",
    "print(L.count(12))\n",
    "# reverse() reverses the list in place and does not create new list\n",
    "print(\"original list:\",L)\n",
    "print(\"reverse list:\")\n",
    "L.reverse()\n",
    "print(L)\n",
    "# sort() sorts the list in ascending order(in place, no new list)\n",
    "# sort(reverse=True)for sorting in Descending order\n",
    "L.sort()\n",
    "print(L)\n",
    "L.sort(reverse=True)\n",
    "print(L)\n",
    "p=[1,2,3]\n",
    "del p[0]\n",
    "del p\n",
    "print(p)\n"
   ]
  },
  {
   "cell_type": "code",
   "execution_count": null,
   "metadata": {},
   "outputs": [],
   "source": [
    "l=[1,2,3,4]\n",
    "l.clear()\n",
    "print(l)\n",
    "l.append(5)\n",
    "l.insert(0,6)\n",
    "print(l)\n",
    "l1=l\n",
    "print(l1)\n",
    "l.append(8)\n",
    "print(l)\n",
    "print(l1)\n",
    "l2=l1.copy()\n",
    "print(l2)\n",
    "l1.append(9)\n",
    "print(l1)\n",
    "print(l2)"
   ]
  },
  {
   "cell_type": "code",
   "execution_count": null,
   "metadata": {},
   "outputs": [],
   "source": [
    "l=[10,20,30,40]\n",
    "l.sort(reverse=True)\n",
    "print(l)\n",
    "print(sorted(l))\n",
    "print(l)\n",
    "l1=sorted(l)\n",
    "print(l1)\n",
    "print(min(l))\n",
    "print(max(l))\n",
    "print(sum(l))\n"
   ]
  },
  {
   "cell_type": "code",
   "execution_count": null,
   "metadata": {},
   "outputs": [],
   "source": [
    "l=[1,2,3,4]\n",
    "l1=l\n",
    "print(l)\n",
    "print(l1)\n",
    "l1[0]=6\n",
    "print(l)\n",
    "print(l1)\n",
    "l2=l1.copy()\n",
    "print(l1,l2)\n",
    "l1[0]=8\n",
    "print(l1)\n",
    "print(l2)"
   ]
  },
  {
   "cell_type": "code",
   "execution_count": null,
   "metadata": {},
   "outputs": [],
   "source": [
    "x=[1,2,3]\n",
    "print(x+2)"
   ]
  },
  {
   "cell_type": "code",
   "execution_count": null,
   "metadata": {},
   "outputs": [],
   "source": [
    "l1=[10,20,30]\n",
    "l1+=[10]\n",
    "print(l1)\n",
    "#l1 +=10\n",
    "#print(l1)\n",
    "l1[0] +=10\n",
    "print(l1)\n"
   ]
  },
  {
   "cell_type": "code",
   "execution_count": null,
   "metadata": {},
   "outputs": [],
   "source": [
    "LX=[11,[22,11],[11,44,[33,11]],15]\n",
    "print(LX[1])\n"
   ]
  },
  {
   "cell_type": "code",
   "execution_count": null,
   "metadata": {},
   "outputs": [],
   "source": [
    "LX=[11,[22,11],[11,44,[33,11]],15]\n",
    "print(LX[2])"
   ]
  },
  {
   "cell_type": "code",
   "execution_count": null,
   "metadata": {},
   "outputs": [],
   "source": [
    "LX=[11,[22,11],[11,44,[33,11]],15]\n",
    "print(LX[1][1])"
   ]
  },
  {
   "cell_type": "code",
   "execution_count": null,
   "metadata": {},
   "outputs": [],
   "source": [
    "LX=[11,[22,11],[11,44,[33,11]],15]\n",
    "print(LX[2][0])"
   ]
  },
  {
   "cell_type": "code",
   "execution_count": null,
   "metadata": {},
   "outputs": [],
   "source": [
    "LX=[11,[22,11],[11,44,[33,11]],15]\n",
    "print(LX[2][2])"
   ]
  },
  {
   "cell_type": "code",
   "execution_count": null,
   "metadata": {},
   "outputs": [],
   "source": [
    "LX=[11,[22,11],[11,44,[33,11]],15]\n",
    "print(LX[2][2][1])"
   ]
  },
  {
   "cell_type": "code",
   "execution_count": null,
   "metadata": {},
   "outputs": [],
   "source": [
    "l1=[2,3,4]\n",
    "print(\"original list:\",l1)\n",
    "n=eval(input(\"enter a number or a list to be appended:\"))\n",
    "if type(n)== type([]):\n",
    "    l1.extend(n)\n",
    "elif type(n)== type(1):\n",
    "    l1.append(n)\n",
    "else:\n",
    "    print(\"please enter either a list or int\")\n",
    "print(\"appended list is:\",l1)"
   ]
  },
  {
   "cell_type": "code",
   "execution_count": null,
   "metadata": {},
   "outputs": [],
   "source": [
    "L=[]\n",
    "L=list(input(\"enter a sequence:\"))\n",
    "print(L)"
   ]
  },
  {
   "cell_type": "code",
   "execution_count": null,
   "metadata": {},
   "outputs": [],
   "source": [
    "l=[]\n",
    "l=list(eval(input(\"enter values seperated by commas:\")))\n",
    "print(l)"
   ]
  },
  {
   "cell_type": "code",
   "execution_count": null,
   "metadata": {},
   "outputs": [],
   "source": [
    "l=[12,32,45,56,54]\n",
    "print(l[0])\n",
    "x=l[0]\n",
    "print(x)\n",
    "print(l[-3])\n",
    "l[-3]=99\n",
    "print(l)\n",
    "l[3]=999\n",
    "print(l)"
   ]
  },
  {
   "cell_type": "code",
   "execution_count": null,
   "metadata": {},
   "outputs": [],
   "source": [
    "l1=[12,32,45,56,54]\n",
    "for i in l:\n",
    "    print(i)"
   ]
  },
  {
   "cell_type": "code",
   "execution_count": null,
   "metadata": {},
   "outputs": [],
   "source": [
    "x=\" c-o-m-p-u-t-e-r\"\n",
    "x1=x.split('-')\n",
    "print(x1)\n",
    "print(x1[2:6:-1])"
   ]
  },
  {
   "cell_type": "code",
   "execution_count": null,
   "metadata": {},
   "outputs": [],
   "source": [
    "L=[10,12,14,20,22,24,30,32,34]\n",
    "print(L[::-2])"
   ]
  },
  {
   "cell_type": "code",
   "execution_count": null,
   "metadata": {},
   "outputs": [],
   "source": [
    "l=[10,12,12,14,20,22,24,30,32,34]\n",
    "l1=['a','b','c']\n",
    "l2=l1.extend(l)\n",
    "print(l)\n",
    "print(l1)\n",
    "print(l2)\n",
    "print(l.remove(12))\n",
    "print(l)\n",
    "del l[0]\n",
    "l"
   ]
  },
  {
   "cell_type": "code",
   "execution_count": null,
   "metadata": {},
   "outputs": [],
   "source": [
    "a=[12,12,[14,20],12,22,24, 30, 32, 34]\n",
    "print(a.count(12))\n",
    "min(a)\n",
    "len(a)"
   ]
  },
  {
   "cell_type": "code",
   "execution_count": null,
   "metadata": {},
   "outputs": [],
   "source": [
    "a=[12, 14, 20, 22, 24, 30, 32, 34]\n",
    "b=a\n",
    "b[0]=33\n",
    "print(a)\n",
    "print(b)\n",
    "b=list(a)\n",
    "b=a.copy()\n",
    "b[0]=222\n",
    "print(a,b)\n",
    "a.reverse()\n",
    "a"
   ]
  },
  {
   "cell_type": "code",
   "execution_count": 1,
   "metadata": {},
   "outputs": [
    {
     "name": "stdout",
     "output_type": "stream",
     "text": [
      "209\n"
     ]
    }
   ],
   "source": [
    "b=[34,32,30,24,22,20,14,33]\n",
    "print(sum(b))"
   ]
  },
  {
   "cell_type": "code",
   "execution_count": 2,
   "metadata": {},
   "outputs": [
    {
     "name": "stdout",
     "output_type": "stream",
     "text": [
      "[1, 2, 3, 3, 4, 5]\n",
      "None\n",
      "[1, 2, 3, 3, 4, 5]\n"
     ]
    }
   ],
   "source": [
    "a=[1,2,3]\n",
    "b=[3,4,5]\n",
    "c=a+b\n",
    "d=a.extend(b)\n",
    "print(c)\n",
    "print(d)\n",
    "print(a)"
   ]
  },
  {
   "cell_type": "code",
   "execution_count": null,
   "metadata": {},
   "outputs": [],
   "source": [
    "#Questions based on Lists"
   ]
  },
  {
   "cell_type": "code",
   "execution_count": 1,
   "metadata": {},
   "outputs": [
    {
     "name": "stdout",
     "output_type": "stream",
     "text": [
      "['Hello Dear', 'Hello Bye', 'Good Dear', 'Good Bye']\n"
     ]
    }
   ],
   "source": [
    "resList = [x+y for x in ['Hello ', 'Good '] for y in ['Dear', 'Bye']]\n",
    "print(resList)"
   ]
  },
  {
   "cell_type": "code",
   "execution_count": null,
   "metadata": {},
   "outputs": [],
   "source": [
    "for x in [\"Hello\",\"good\"]:\n",
    "    for y in ['Dear', 'Bye']:\n",
    "        x+y"
   ]
  },
  {
   "cell_type": "code",
   "execution_count": 3,
   "metadata": {},
   "outputs": [
    {
     "name": "stdout",
     "output_type": "stream",
     "text": [
      "n\n",
      "a\n"
     ]
    }
   ],
   "source": [
    "aList = [\"PYnative\", [4, 8, 12, 16]]\n",
    "print(aList[0][2])    \n",
    "print(aList[1][3])"
   ]
  },
  {
   "cell_type": "code",
   "execution_count": 4,
   "metadata": {},
   "outputs": [
    {
     "name": "stdout",
     "output_type": "stream",
     "text": [
      "10\n"
     ]
    }
   ],
   "source": [
    "l = [None] * 10\n",
    "print(len(l))"
   ]
  },
  {
   "cell_type": "code",
   "execution_count": 6,
   "metadata": {},
   "outputs": [
    {
     "name": "stdout",
     "output_type": "stream",
     "text": [
      "65\n",
      "97\n"
     ]
    }
   ],
   "source": [
    "print(ord('A'))\n",
    "print(ord('a'))"
   ]
  },
  {
   "cell_type": "code",
   "execution_count": 7,
   "metadata": {},
   "outputs": [
    {
     "name": "stdout",
     "output_type": "stream",
     "text": [
      "['quux', 'baz', 'foo']\n"
     ]
    },
    {
     "data": {
      "text/plain": [
       "['quux', 'baz', 'foo']"
      ]
     },
     "execution_count": 7,
     "metadata": {},
     "output_type": "execute_result"
    }
   ],
   "source": [
    "a = ['foo', 'bar', 'baz', 'qux', 'quux', 'corge']\n",
    "print(a[4::-2])\n",
    "['quux', 'baz', 'foo']"
   ]
  },
  {
   "cell_type": "code",
   "execution_count": 8,
   "metadata": {},
   "outputs": [
    {
     "data": {
      "text/plain": [
       "'z'"
      ]
     },
     "execution_count": 8,
     "metadata": {},
     "output_type": "execute_result"
    }
   ],
   "source": [
    "x = [10, [3.141, 20, [30, 'baz', 2.718]], 'foo']\n",
    "x[1][2][1][2]"
   ]
  },
  {
   "cell_type": "code",
   "execution_count": 9,
   "metadata": {},
   "outputs": [
    {
     "data": {
      "text/plain": [
       "['baz', 2.718]"
      ]
     },
     "execution_count": 9,
     "metadata": {},
     "output_type": "execute_result"
    }
   ],
   "source": [
    "x[1][2][1:]"
   ]
  },
  {
   "cell_type": "code",
   "execution_count": 10,
   "metadata": {},
   "outputs": [
    {
     "data": {
      "text/plain": [
       "[1, 2, 3, 4, 5, 6, 7, 8]"
      ]
     },
     "execution_count": 10,
     "metadata": {},
     "output_type": "execute_result"
    }
   ],
   "source": [
    "a=[1,2,7, 8]\n",
    "a[2:2]=[3,4,5,6]\n",
    "a"
   ]
  },
  {
   "cell_type": "code",
   "execution_count": 11,
   "metadata": {},
   "outputs": [
    {
     "name": "stdout",
     "output_type": "stream",
     "text": [
      "2 5 8\n"
     ]
    }
   ],
   "source": [
    "a, b, c = (1, 2, 3, 4, 5, 6, 7, 8, 9)[1::3]\n",
    "print(a,b,c)"
   ]
  },
  {
   "cell_type": "code",
   "execution_count": null,
   "metadata": {},
   "outputs": [],
   "source": []
  }
 ],
 "metadata": {
  "kernelspec": {
   "display_name": "Python [conda env:base] *",
   "language": "python",
   "name": "conda-base-py"
  },
  "language_info": {
   "codemirror_mode": {
    "name": "ipython",
    "version": 3
   },
   "file_extension": ".py",
   "mimetype": "text/x-python",
   "name": "python",
   "nbconvert_exporter": "python",
   "pygments_lexer": "ipython3",
   "version": "3.13.5"
  }
 },
 "nbformat": 4,
 "nbformat_minor": 4
}
