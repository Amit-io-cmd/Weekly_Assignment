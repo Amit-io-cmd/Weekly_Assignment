{
 "cells": [
  {
   "cell_type": "code",
   "execution_count": 1,
   "metadata": {},
   "outputs": [
    {
     "ename": "SyntaxError",
     "evalue": "invalid syntax (<ipython-input-1-f4b118f6c250>, line 1)",
     "output_type": "error",
     "traceback": [
      "\u001b[1;36m  File \u001b[1;32m\"<ipython-input-1-f4b118f6c250>\"\u001b[1;36m, line \u001b[1;32m1\u001b[0m\n\u001b[1;33m    Dictionary is an unordered collection of Key value pairs enclosed in curly braces.\u001b[0m\n\u001b[1;37m                             ^\u001b[0m\n\u001b[1;31mSyntaxError\u001b[0m\u001b[1;31m:\u001b[0m invalid syntax\n"
     ]
    }
   ],
   "source": [
    "Dictionary is an unordered collection of Key value pairs enclosed in curly braces.\n",
    "individual elements are seperated by commas. \n",
    "Dictionaries are also called Mapping\n",
    "Dictionaries are mutable(it means maps values of one type(key) to arbitrary objects(values))\n",
    "Key must be an immutable type:\n",
    "    like sring, a number, tuple with immutable entries\n",
    "    otherwise you will get an error: unhashable type."
   ]
  },
  {
   "cell_type": "code",
   "execution_count": null,
   "metadata": {},
   "outputs": [],
   "source": [
    "# Problem: \n",
    "# accept marks and roll no of 5 students and \n",
    "create a dictionary\n",
    "marks=[]\n",
    "rno=[]\n",
    "students={}\n",
    "for i in range(5):\n",
    "    m=int(input(\"enter your marks\"))\n",
    "    r=input(\"enter your rollno\")\n",
    "    marks.append(m)\n",
    "    rno.append(r)\n",
    "for j in range(5):\n",
    "    students[rno[j]]=marks[j]\n",
    "print(students)\n",
    "    "
   ]
  },
  {
   "cell_type": "code",
   "execution_count": null,
   "metadata": {},
   "outputs": [],
   "source": [
    "# addition to the above problem display roll no of students\n",
    "# who have score more than 75\n",
    "marks=[]\n",
    "rno=[]\n",
    "students={}\n",
    "for i in range(5):\n",
    "    m=int(input(\"enter your marks\"))\n",
    "    r=input(\"enter your rollno\")\n",
    "    marks.append(m)\n",
    "    rno.append(r)\n",
    "for j in range(5):\n",
    "    students[rno[j]]=marks[j]\n",
    "print(students)\n",
    "for i in students:\n",
    "    if students[i]>75:\n",
    "        print(\"rollno\",i,\"marks\",students[i])\n"
   ]
  },
  {
   "cell_type": "code",
   "execution_count": null,
   "metadata": {},
   "outputs": [],
   "source": [
    "for i in students:\n",
    "    if 100 not in students.values():\n",
    "        print(\" none of the student has scored 100 marks\")\n",
    "        \n",
    "    elif students[i]==100:\n",
    "            print(\"Student with roll no\",i,\"has scored marks\", students[i])\n"
   ]
  },
  {
   "cell_type": "code",
   "execution_count": 2,
   "metadata": {},
   "outputs": [
    {
     "data": {
      "text/plain": [
       "{'name': 'sanjay', 'age': 42, 'salary': 100000}"
      ]
     },
     "execution_count": 2,
     "metadata": {},
     "output_type": "execute_result"
    }
   ],
   "source": [
    "\n",
    "students=dict(zip(('name','age','salary'),('sanjay',42,100000)))\n",
    "students"
   ]
  },
  {
   "cell_type": "code",
   "execution_count": 3,
   "metadata": {},
   "outputs": [
    {
     "data": {
      "text/plain": [
       "{'name': 'sonam', 'age': 24, 'salary': 10000}"
      ]
     },
     "execution_count": 3,
     "metadata": {},
     "output_type": "execute_result"
    }
   ],
   "source": [
    "students=dict(name='sonam',age=24,salary=10000)\n",
    "students"
   ]
  },
  {
   "cell_type": "code",
   "execution_count": 4,
   "metadata": {},
   "outputs": [
    {
     "name": "stdout",
     "output_type": "stream",
     "text": [
      "{'name': 'sonam', 'age': 24, 'salary': 5000}\n",
      "sonam\n",
      "5000\n",
      "None\n",
      "{'name': 'sonam', 'age': 24, 'salary': 5000, 'rollno': None}\n"
     ]
    }
   ],
   "source": [
    "'''dict.get(key,message) is used to get value at the specified key.\n",
    "if key is not present it will return None. you can use this method to flash \n",
    "any message when key is not present.'''\n",
    "\n",
    "students=dict([['name','sonam'],['age',24],['salary',5000]])\n",
    "print(students)\n",
    "#print(students.items())\n",
    "#x=list(students.items())\n",
    "#print(x)\n",
    "print(students.get('name'))\n",
    "print(students.get('salary'))\n",
    "print(students.get('rollno'))\n",
    "# will raise user defined message\n",
    "\n",
    "#print(students['rollno'])# will raise an error\n",
    "students['rollno']=None\n",
    "print(students)"
   ]
  },
  {
   "cell_type": "code",
   "execution_count": 5,
   "metadata": {},
   "outputs": [
    {
     "name": "stdout",
     "output_type": "stream",
     "text": [
      "{'name': 'sonam', 'age': 24, 'salary': 5000}\n",
      "{'age': 24, 'salary': 5000}\n"
     ]
    },
    {
     "ename": "NameError",
     "evalue": "name 'students' is not defined",
     "output_type": "error",
     "traceback": [
      "\u001b[1;31m---------------------------------------------------------------------------\u001b[0m",
      "\u001b[1;31mNameError\u001b[0m                                 Traceback (most recent call last)",
      "\u001b[1;32m<ipython-input-5-a36000c3fa05>\u001b[0m in \u001b[0;36m<module>\u001b[1;34m\u001b[0m\n\u001b[0;32m      6\u001b[0m \u001b[0mprint\u001b[0m\u001b[1;33m(\u001b[0m\u001b[0mstudents\u001b[0m\u001b[1;33m)\u001b[0m\u001b[1;33m\u001b[0m\u001b[1;33m\u001b[0m\u001b[0m\n\u001b[0;32m      7\u001b[0m \u001b[1;32mdel\u001b[0m \u001b[0mstudents\u001b[0m\u001b[1;33m\u001b[0m\u001b[1;33m\u001b[0m\u001b[0m\n\u001b[1;32m----> 8\u001b[1;33m \u001b[0mprint\u001b[0m\u001b[1;33m(\u001b[0m\u001b[0mstudents\u001b[0m\u001b[1;33m)\u001b[0m\u001b[1;33m\u001b[0m\u001b[1;33m\u001b[0m\u001b[0m\n\u001b[0m",
      "\u001b[1;31mNameError\u001b[0m: name 'students' is not defined"
     ]
    }
   ],
   "source": [
    "#del students['name'] # will delete item at the specified key\n",
    "#del students will delete the entire dictionary\n",
    "students=dict([['name','sonam'],['age',24],['salary',5000]])\n",
    "print(students)\n",
    "del students['name']\n",
    "print(students)\n",
    "del students\n",
    "print(students)"
   ]
  },
  {
   "cell_type": "code",
   "execution_count": null,
   "metadata": {},
   "outputs": [],
   "source": [
    "students=dict([['name','sonam'],['age',24],['salary',5000]])\n",
    "students.clear()\n",
    "print(students)"
   ]
  },
  {
   "cell_type": "code",
   "execution_count": null,
   "metadata": {},
   "outputs": [],
   "source": [
    "# update method is used to merge two dictionaries and override any items there with the same keys\n",
    "phonedict={\"sanjay\":\"8126973489\",\"vijay\":\"9837264306\",\"nirmal\":\"8057075798\"}\n",
    "print(phonedict)\n",
    "employees={'john':{'age':25,'salary':20000},'divya':{'age':28,'salary':30000},\"sanjay\":\"786868979\"}\n",
    "print(employees)\n",
    "employees.update(phonedict)# updating employees with phonedict\n",
    "print(employees)\n",
    "phonedict.update(employees)# updating phonedict with employees\n",
    "employees\n",
    "a={}\n",
    "a.update(employees)\n",
    "print(a)\n",
    "\n"
   ]
  },
  {
   "cell_type": "code",
   "execution_count": null,
   "metadata": {},
   "outputs": [],
   "source": [
    "students={'sanjay':{'age':23,'job':'teacher','salary':100000},\\\n",
    "          'abinash':{'age':18,'job':'student','salary':10000}}\n",
    "\n",
    "for i,j in students.items():\n",
    "    print(\"student\",\":\",i)\n",
    "    for k in j:\n",
    "        print(k,\":\",j[k])"
   ]
  },
  {
   "cell_type": "code",
   "execution_count": null,
   "metadata": {},
   "outputs": [],
   "source": [
    "import json\n",
    "students={'sanjay':{'age':23,'job':'teacher','salary':100000},\\\n",
    "          'abinash':{'age':18,'job':'student','salary':10000}}\n",
    "#adding more element to the nested dictionary\n",
    "students['himanshi']={}\n",
    "students['himanshi']['age']=17\n",
    "students['himanshi']['job']='student'\n",
    "students['himanshi']['salary']=40000\n",
    "print(json.dumps(students,indent=15))"
   ]
  },
  {
   "cell_type": "code",
   "execution_count": null,
   "metadata": {},
   "outputs": [],
   "source": [
    "# for pretty printing of Dictionary\n",
    "import json\n",
    "students={'name':'sanjay','job':'Teacher','salary':100000}\n",
    "print(json.dumps(students,indent=5))\n",
    "print(students)"
   ]
  },
  {
   "cell_type": "code",
   "execution_count": null,
   "metadata": {},
   "outputs": [],
   "source": [
    "students={1:{'eng':75,'math':98,'phy':80,'chem':89,'IP':99},\\\n",
    "         2:{'eng':78,'math':90,'phy':89,'chem':79,'IP':79},\\\n",
    "         3:{'eng':85,'math':98,'phy':98,'chem':70,'IP':100}}\n",
    "\n",
    "for i,j in students.items():\n",
    "    print(\"students\")\n",
    "    print(\"Roll no\",i)\n",
    "    sum=0\n",
    "    for key in j.values():\n",
    "        sum=sum+key\n",
    "    print(\"total\",sum)\n",
    "    print(\"percentage\",sum/len(j))\n",
    "     \n",
    "        \n",
    "    "
   ]
  },
  {
   "cell_type": "code",
   "execution_count": null,
   "metadata": {},
   "outputs": [],
   "source": [
    "sentence=\"This is a super idea this \\\n",
    "idea will change the idea of learning\"\n",
    "words=sentence.split()\n",
    "print(words)"
   ]
  },
  {
   "cell_type": "code",
   "execution_count": null,
   "metadata": {},
   "outputs": [],
   "source": [
    "#counting frequency of elements in a list using dictionary\n",
    "import json\n",
    "sentence=\"This is a super idea this \\\n",
    "idea will change the idea of learning\"\n",
    "words=sentence.split()\n",
    "d={}\n",
    "for one in words:\n",
    "    key=one\n",
    "    if key not in d:\n",
    "        count=words.count(key)\n",
    "        d[key]=count\n",
    "print(\"counting frequencies in list\\n\",words)\n",
    "print(json.dumps(d,indent=13))\n",
    "#print(d)"
   ]
  },
  {
   "cell_type": "code",
   "execution_count": null,
   "metadata": {},
   "outputs": [],
   "source": [
    "# predict the output \n",
    "adict={'bhavna':1,\"richard\":2,\"firoza\":10,\"arshnoor\":20}\n",
    "temp=0\n",
    "for value in adict.values():\n",
    "    temp=temp+value\n",
    "print(temp)"
   ]
  },
  {
   "cell_type": "code",
   "execution_count": null,
   "metadata": {},
   "outputs": [],
   "source": []
  },
  {
   "cell_type": "code",
   "execution_count": null,
   "metadata": {},
   "outputs": [],
   "source": [
    "# Predict the output\n",
    "adict={'bhavna':1,\"richard\":2,\"firoza\":10,\"arshnoor\":20}\n",
    "temp=\"\"\n",
    "for key in adict:\n",
    "    if temp<key:\n",
    "        temp=key\n",
    "print(temp)\n"
   ]
  },
  {
   "cell_type": "code",
   "execution_count": null,
   "metadata": {},
   "outputs": [],
   "source": [
    "adict={'bhavna':1,\"richard\":2,\"firoza\":10,\"arshnoor\":20}\n",
    "temp=\"\"\n",
    "for key in adict:\n",
    "    temp=temp+\" \"+key\n",
    "print(temp)"
   ]
  },
  {
   "cell_type": "code",
   "execution_count": null,
   "metadata": {},
   "outputs": [],
   "source": [
    "adict={'bhavna':1,\"richard\":2,\"firoza\":10,\"arshnoor\":20}\n",
    "temp=\"\"\n",
    "for key in adict:\n",
    "    if len(key)>len(temp):\n",
    "        temp=key\n",
    "print(temp)"
   ]
  },
  {
   "cell_type": "code",
   "execution_count": null,
   "metadata": {},
   "outputs": [],
   "source": [
    "# Predict the output\n",
    "box={}\n",
    "jars={'jam':4}\n",
    "creates={}\n",
    "box['biscuit']=1\n",
    "box['cake']=3\n",
    "print('box',box)\n",
    "creates['box']=box\n",
    "creates['jars']=jars\n",
    "print(\"creates\",creates)\n",
    "print(len(creates['box']))"
   ]
  },
  {
   "cell_type": "code",
   "execution_count": null,
   "metadata": {},
   "outputs": [],
   "source": [
    "text=\"abracadbra\"\n",
    "counts={}\n",
    "for word in text:\n",
    "    counts[word]=text.count(word)+1\n",
    "print(counts)"
   ]
  },
  {
   "cell_type": "code",
   "execution_count": null,
   "metadata": {},
   "outputs": [],
   "source": [
    "a={(1,2):1,(2,3):2}\n",
    "print(a[(1,2)])"
   ]
  },
  {
   "cell_type": "code",
   "execution_count": null,
   "metadata": {},
   "outputs": [],
   "source": [
    "#Predict the output\n",
    "adict={'bhavna':1,\"richard\":2,\"firoza\":10,\"arshnoor\":20}\n",
    "k=\"bhavna\"\n",
    "v=-1\n",
    "if k in adict:\n",
    "    adict[k]=v\n",
    "print(adict)"
   ]
  },
  {
   "cell_type": "code",
   "execution_count": null,
   "metadata": {},
   "outputs": [],
   "source": [
    "#Predict the output\n",
    "x={'k1':'v1','k2':'v2','k3':'v3','k4':'v4'}\n",
    "a=list(x.keys())\n",
    "print(a)\n",
    "b=list(x.values())\n",
    "print(b)\n",
    "c=list(zip(b,a))\n",
    "print(c)\n",
    "d=dict(c)\n",
    "print(d)"
   ]
  },
  {
   "cell_type": "code",
   "execution_count": null,
   "metadata": {},
   "outputs": [],
   "source": [
    "# Predict the output\n",
    "arr={}\n",
    "arr[1]=1\n",
    "arr['1']=2\n",
    "arr[1]+=1 #arr[1]=arr[1]+1\n",
    "print(arr)\n",
    "sum=0\n",
    "for k in arr:\n",
    "    sum+=arr[k]\n",
    "print(sum)\n"
   ]
  },
  {
   "cell_type": "code",
   "execution_count": null,
   "metadata": {},
   "outputs": [],
   "source": [
    "a=[1,2,3,4]\n",
    "x=dict.fromkeys(a,\"123\")\n",
    "print(x)\n",
    "\n"
   ]
  },
  {
   "cell_type": "code",
   "execution_count": null,
   "metadata": {},
   "outputs": [],
   "source": [
    "AUS=[1,2,3,4]\n",
    "SUA=AUS[-1 : :-1]\n",
    "SUA"
   ]
  },
  {
   "cell_type": "code",
   "execution_count": null,
   "metadata": {},
   "outputs": [],
   "source": [
    "for n in range(10,1):\n",
    "    print(n,end=\" \")\n",
    "\n"
   ]
  },
  {
   "cell_type": "code",
   "execution_count": null,
   "metadata": {},
   "outputs": [],
   "source": [
    "a=20 \n",
    "b=0\n",
    "for i in range(5):\n",
    "    b=b+a\n",
    "per=(b/150)*100\n",
    "print(\"Percentage is \",per)\n",
    "\n"
   ]
  },
  {
   "cell_type": "code",
   "execution_count": null,
   "metadata": {},
   "outputs": [],
   "source": [
    "adict={'bhavna':1,\"richard\":2,\"firoza\":10,\"arshnoor\":20}"
   ]
  },
  {
   "cell_type": "code",
   "execution_count": null,
   "metadata": {},
   "outputs": [],
   "source": [
    "#NCERT\n",
    "x=list(\"w3resource\")\n",
    "print(x)\n",
    "d={}\n",
    "for i in x:\n",
    "    key=i\n",
    "    value=x.index(i)\n",
    "    d[key]=value\n",
    "print(d)"
   ]
  },
  {
   "cell_type": "code",
   "execution_count": 6,
   "metadata": {},
   "outputs": [
    {
     "name": "stdout",
     "output_type": "stream",
     "text": [
      "enter your name:a\n",
      "enter your phone no12\n",
      "enter your name:b\n",
      "enter your phone no13\n",
      "enter your name:c\n",
      "enter your phone no34\n",
      "enter your name:d\n",
      "enter your phone no46\n",
      "enter your name:e\n",
      "enter your phone no78\n",
      "{'a': '12', 'b': '13', 'c': '34', 'd': '46', 'e': '78'}\n"
     ]
    }
   ],
   "source": [
    "#NCERT create a \n",
    "friends={}\n",
    "i=1\n",
    "while(i<=5):\n",
    "    name=input(\"enter your name:\")\n",
    "    phone=input(\"enter your phone no\")\n",
    "    friends[name]=phone\n",
    "    i+=1\n",
    "print(friends)\n",
    "    \n",
    "    \n",
    "    \n",
    "    \n",
    "    "
   ]
  },
  {
   "cell_type": "code",
   "execution_count": null,
   "metadata": {},
   "outputs": [],
   "source": []
  }
 ],
 "metadata": {
  "kernelspec": {
   "display_name": "Python [conda env:base] *",
   "language": "python",
   "name": "conda-base-py"
  },
  "language_info": {
   "codemirror_mode": {
    "name": "ipython",
    "version": 3
   },
   "file_extension": ".py",
   "mimetype": "text/x-python",
   "name": "python",
   "nbconvert_exporter": "python",
   "pygments_lexer": "ipython3",
   "version": "3.13.5"
  }
 },
 "nbformat": 4,
 "nbformat_minor": 4
}
