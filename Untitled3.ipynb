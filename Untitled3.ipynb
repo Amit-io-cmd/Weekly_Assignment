{
 "cells": [
  {
   "cell_type": "code",
   "execution_count": 2,
   "id": "9e794aac-2723-44f2-be1c-e906541dae12",
   "metadata": {},
   "outputs": [
    {
     "name": "stdout",
     "output_type": "stream",
     "text": [
      "i like Python\n"
     ]
    }
   ],
   "source": [
    "# global variables \n",
    "# created outside of a function\n",
    "# can be used inside of the function and outside\n",
    "x=\"Python\"\n",
    "def myfunc():\n",
    "    print(\"i like \"+x)\n",
    "myfunc()"
   ]
  },
  {
   "cell_type": "code",
   "execution_count": 3,
   "id": "d75e6622-78e2-4be9-ae68-65a90edcb020",
   "metadata": {},
   "outputs": [
    {
     "name": "stdout",
     "output_type": "stream",
     "text": [
      "i like c\n",
      "i like Python\n"
     ]
    }
   ],
   "source": [
    "x=\"Python\"\n",
    "def myfunc():\n",
    "    x=\"c\"\n",
    "    print(\"i like \"+x)\n",
    "myfunc()\n",
    "print(\"i like \"+x)"
   ]
  },
  {
   "cell_type": "code",
   "execution_count": 8,
   "id": "51da609a-bf41-4dd5-acfb-31192b59443e",
   "metadata": {},
   "outputs": [
    {
     "name": "stdout",
     "output_type": "stream",
     "text": [
      "i like c\n",
      "i like c\n"
     ]
    }
   ],
   "source": [
    "x=\"Python\"\n",
    "def myfunc():\n",
    "    print(\"i like \"+x)\n",
    "x=\"c\"\n",
    "myfunc()\n",
    "print(\"i like \"+x)"
   ]
  },
  {
   "cell_type": "code",
   "execution_count": null,
   "id": "8bc8c588-4db3-47e1-9dc3-ee5efe0f35b0",
   "metadata": {},
   "outputs": [],
   "source": [
    "# if there is variable with the same name inside a function on , this variable will be local and only be used inside the function\n"
   ]
  },
  {
   "cell_type": "code",
   "execution_count": 9,
   "id": "37224550-d9bb-486f-9240-9c8fa40ab6da",
   "metadata": {},
   "outputs": [
    {
     "name": "stdout",
     "output_type": "stream",
     "text": [
      "i like c\n",
      "i like c\n"
     ]
    }
   ],
   "source": [
    "x=\"python\"\n",
    "def myfunc():\n",
    "    global x \n",
    "    x=\"c\"\n",
    "    print(\"i like \"+x)\n",
    "myfunc()\n",
    "print(\"i like \"+x)"
   ]
  },
  {
   "cell_type": "code",
   "execution_count": 14,
   "id": "fc70291e-a030-4014-9ce7-572c8b7ad553",
   "metadata": {},
   "outputs": [
    {
     "name": "stdout",
     "output_type": "stream",
     "text": [
      "i like c\n",
      "i like python\n"
     ]
    }
   ],
   "source": [
    "x=\"python\"\n",
    "def myfunc(): \n",
    "    x=\"c\"\n",
    "    print(\"i like \"+x)\n",
    "global x\n",
    "myfunc()\n",
    "print(\"i like \"+x)"
   ]
  },
  {
   "cell_type": "code",
   "execution_count": 19,
   "id": "e7d3efaa-9f3a-41b9-a029-497c18c1a17a",
   "metadata": {},
   "outputs": [
    {
     "ename": "SyntaxError",
     "evalue": "name 'x' is assigned to before global declaration (3330436875.py, line 3)",
     "output_type": "error",
     "traceback": [
      "\u001b[1;36m  Cell \u001b[1;32mIn[19], line 3\u001b[1;36m\u001b[0m\n\u001b[1;33m    global x\u001b[0m\n\u001b[1;37m    ^\u001b[0m\n\u001b[1;31mSyntaxError\u001b[0m\u001b[1;31m:\u001b[0m name 'x' is assigned to before global declaration\n"
     ]
    }
   ],
   "source": [
    "def myfunc():\n",
    "    x=\"c\"\n",
    "    global x\n",
    "    print(\"i like \"+x) \n",
    "x=\"python\"\n",
    "myfunc()\n",
    "print(\"i like \"+x)"
   ]
  },
  {
   "cell_type": "code",
   "execution_count": 21,
   "id": "4d0567db-4e4a-42f7-943b-986542c13b78",
   "metadata": {},
   "outputs": [
    {
     "name": "stdout",
     "output_type": "stream",
     "text": [
      "python is awesome\n"
     ]
    }
   ],
   "source": [
    "x=\"great\"\n",
    "def myfunc():\n",
    "    global x\n",
    "    x=\"awesome\"\n",
    "myfunc()\n",
    "print(\"python is \"+x)"
   ]
  },
  {
   "cell_type": "code",
   "execution_count": null,
   "id": "ed899db9-dca6-4d19-bd4a-6a7957f8880c",
   "metadata": {},
   "outputs": [],
   "source": [
    "                                # for loop"
   ]
  },
  {
   "cell_type": "code",
   "execution_count": 23,
   "id": "41d8fe87-1d88-4477-9a14-3f35b4307e01",
   "metadata": {},
   "outputs": [
    {
     "name": "stdout",
     "output_type": "stream",
     "text": [
      "0\n",
      "1\n",
      "2\n",
      "3\n",
      "4\n",
      "0\n",
      "1\n",
      "2\n",
      "3\n",
      "4\n",
      "0\n",
      "1\n",
      "2\n",
      "3\n",
      "4\n"
     ]
    }
   ],
   "source": [
    "for i in range (3):\n",
    "    for j in range (5):\n",
    "        print(j)"
   ]
  },
  {
   "cell_type": "code",
   "execution_count": 25,
   "id": "7fe44f58-8f89-4ccc-90ad-99f8ca9b4a5c",
   "metadata": {},
   "outputs": [
    {
     "name": "stdout",
     "output_type": "stream",
     "text": [
      "0\n",
      "0\n",
      "0\n",
      "0\n",
      "0\n",
      "0\n",
      "0\n",
      "0\n",
      "0\n",
      "0\n",
      "0\n",
      "0\n",
      "0\n",
      "0\n",
      "0\n",
      "0\n",
      "0\n",
      "0\n",
      "0\n",
      "0\n",
      "0\n",
      "0\n",
      "0\n",
      "0\n",
      "0\n",
      "0\n",
      "0\n",
      "0\n",
      "0\n",
      "0\n",
      "0\n",
      "0\n",
      "0\n",
      "0\n",
      "0\n",
      "0\n",
      "0\n",
      "0\n",
      "0\n",
      "0\n",
      "0\n",
      "0\n",
      "0\n",
      "0\n",
      "0\n",
      "0\n",
      "0\n",
      "0\n",
      "0\n",
      "1\n",
      "2\n",
      "3\n",
      "4\n",
      "5\n",
      "6\n",
      "7\n",
      "0\n",
      "2\n",
      "4\n",
      "6\n",
      "8\n",
      "10\n",
      "12\n",
      "14\n",
      "0\n",
      "3\n",
      "6\n",
      "9\n",
      "12\n",
      "15\n",
      "18\n",
      "21\n",
      "0\n",
      "4\n",
      "8\n",
      "12\n",
      "16\n",
      "20\n",
      "24\n",
      "28\n",
      "0\n",
      "0\n",
      "0\n",
      "0\n",
      "0\n",
      "0\n",
      "0\n",
      "0\n",
      "0\n",
      "2\n",
      "4\n",
      "6\n",
      "8\n",
      "10\n",
      "12\n",
      "14\n",
      "0\n",
      "4\n",
      "8\n",
      "12\n",
      "16\n",
      "20\n",
      "24\n",
      "28\n",
      "0\n",
      "6\n",
      "12\n",
      "18\n",
      "24\n",
      "30\n",
      "36\n",
      "42\n",
      "0\n",
      "8\n",
      "16\n",
      "24\n",
      "32\n",
      "40\n",
      "48\n",
      "56\n"
     ]
    }
   ],
   "source": [
    "for i in range (3):\n",
    "    for j in range (5):\n",
    "        for k in range(8):\n",
    "            print(i*j*k)\n",
    "            \n",
    "        "
   ]
  },
  {
   "cell_type": "code",
   "execution_count": 28,
   "id": "b3d7ce69-35a2-4029-9ede-9c8da6187d6a",
   "metadata": {},
   "outputs": [
    {
     "name": "stdout",
     "output_type": "stream",
     "text": [
      "[2, 4, 6, 8, 10, 12, 14, 16, 18, 20]\n"
     ]
    }
   ],
   "source": [
    "# From a list of numbers  from  1 to 20 create a list of even number using the for loop\n",
    "num=[]\n",
    "for i in range(1,21):\n",
    "    if i%2==0:\n",
    "        num.append(i)\n",
    "print(num)"
   ]
  },
  {
   "cell_type": "code",
   "execution_count": 30,
   "id": "15e7bce0-2142-4756-9cc4-39bce1aaa8b6",
   "metadata": {},
   "outputs": [
    {
     "name": "stdout",
     "output_type": "stream",
     "text": [
      "[2, 4, 6, 8, 10, 12, 14, 16, 18, 20]\n"
     ]
    }
   ],
   "source": [
    "                        # list comprehension\n",
    "evens=[n for n in range(1,21) if n%2==0]\n",
    "print(evens)"
   ]
  },
  {
   "cell_type": "code",
   "execution_count": 1,
   "id": "83f2117d-1aa0-4a82-a7ce-1ffe1042cd75",
   "metadata": {},
   "outputs": [
    {
     "name": "stdout",
     "output_type": "stream",
     "text": [
      "['any', 'avy', 'airy']\n"
     ]
    }
   ],
   "source": [
    "mylist=['any','am','avy','airy','a']\n",
    "newlist=[]\n",
    "for x in mylist:\n",
    "    if x.startswith('a') and x.endswith('y'):\n",
    "        newlist.append(x)\n",
    "print(newlist)"
   ]
  },
  {
   "cell_type": "code",
   "execution_count": 2,
   "id": "45f9d978-8774-4ab3-a298-3d044b701fd9",
   "metadata": {},
   "outputs": [
    {
     "name": "stdout",
     "output_type": "stream",
     "text": [
      "['any', 'avy', 'airy']\n"
     ]
    }
   ],
   "source": [
    "mylist=['any','am','avy','airy','a']\n",
    "newlist=[n for n in mylist if n.startswith('a') and n.endswith('y')]\n",
    "print(newlist)\n"
   ]
  },
  {
   "cell_type": "code",
   "execution_count": 3,
   "id": "0955d6dd-8135-4d95-acad-1a02a0b7eb24",
   "metadata": {},
   "outputs": [
    {
     "name": "stdout",
     "output_type": "stream",
     "text": [
      "['any', 'avy', 'airy']\n"
     ]
    }
   ],
   "source": [
    "mylist=['any','am','avy','airy','a']\n",
    "newlist=[]\n",
    "for x in mylist:\n",
    "    if x[0]==('a') and x[-1]==('y'):\n",
    "        newlist.append(x)\n",
    "print(newlist)"
   ]
  },
  {
   "cell_type": "code",
   "execution_count": 6,
   "id": "252bda6e-c22c-4484-85ba-4025d121abd2",
   "metadata": {},
   "outputs": [
    {
     "name": "stdout",
     "output_type": "stream",
     "text": [
      "['any', 'avy', 'airy']\n"
     ]
    }
   ],
   "source": [
    "mylist=['any','am','avy','airy','a']\n",
    "newlist=[n for n in mylist  if n[0]==('a') and n[-1]==('y')]\n",
    "print(newlist)\n"
   ]
  },
  {
   "cell_type": "code",
   "execution_count": 7,
   "id": "065e328d-65e7-4075-a852-a65652e85876",
   "metadata": {},
   "outputs": [
    {
     "data": {
      "text/plain": [
       "['a', 'avy', 'any']"
      ]
     },
     "execution_count": 7,
     "metadata": {},
     "output_type": "execute_result"
    }
   ],
   "source": [
    "mylist=['any','am','avy','airy','a']\n",
    "mylist[::-2]"
   ]
  },
  {
   "cell_type": "code",
   "execution_count": 18,
   "id": "5f0ed456-5ad1-405f-b7dc-022777d3512a",
   "metadata": {},
   "outputs": [
    {
     "data": {
      "text/plain": [
       "['airy', 'avy']"
      ]
     },
     "execution_count": 18,
     "metadata": {},
     "output_type": "execute_result"
    }
   ],
   "source": [
    "mylist=['any','am','avy','airy','a']\n",
    "mylist[3:1:-1]"
   ]
  },
  {
   "cell_type": "markdown",
   "id": "00064d5d-9c72-4725-bb7e-1f20a476000e",
   "metadata": {},
   "source": [
    "\n"
   ]
  }
 ],
 "metadata": {
  "kernelspec": {
   "display_name": "Python [conda env:base] *",
   "language": "python",
   "name": "conda-base-py"
  },
  "language_info": {
   "codemirror_mode": {
    "name": "ipython",
    "version": 3
   },
   "file_extension": ".py",
   "mimetype": "text/x-python",
   "name": "python",
   "nbconvert_exporter": "python",
   "pygments_lexer": "ipython3",
   "version": "3.13.5"
  }
 },
 "nbformat": 4,
 "nbformat_minor": 5
}
