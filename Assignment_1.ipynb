{
 "cells": [
  {
   "cell_type": "code",
   "execution_count": 1,
   "id": "c06a93d4-889e-4b7b-aeb8-fc6348be113e",
   "metadata": {},
   "outputs": [
    {
     "name": "stdin",
     "output_type": "stream",
     "text": [
      "Enter the first number:  12\n",
      "Enter the second number:  6\n"
     ]
    },
    {
     "name": "stdout",
     "output_type": "stream",
     "text": [
      "The GCD of the above numbers is: 6\n"
     ]
    }
   ],
   "source": [
    "# We take two inputs from the user and find the remainder if remainder is not zero we assign the remainder to the second  number untill the remainder\n",
    "# becomes zero.\n",
    "\n",
    "Num_1 = int(input(\"Enter the first number: \"))\n",
    "Num_2 = int(input(\"Enter the second number: \"))\n",
    "\n",
    "while Num_2 != 0:\n",
    "    remainder = Num_1 % Num_2\n",
    "    Num_1= Num_2\n",
    "    Num_2=remainder\n",
    "print(\"The GCD of the above numbers is:\", Num_1)\n"
   ]
  },
  {
   "cell_type": "code",
   "execution_count": 18,
   "id": "85d9327e-18f3-4e62-9ba4-f784eb44c352",
   "metadata": {},
   "outputs": [
    {
     "name": "stdin",
     "output_type": "stream",
     "text": [
      "Enter the positive number:  7\n"
     ]
    },
    {
     "name": "stdout",
     "output_type": "stream",
     "text": [
      "The factorial of the 7 is 5040\n"
     ]
    }
   ],
   "source": [
    "# we take input from the user  and to find its factorial we take a no less than that and multiply.\n",
    "# We assign the factorial of 0 and 1  as 1.\n",
    "\n",
    "Num= int(input(\"Enter the positive number: \"))\n",
    "def factorial(n):\n",
    "    if n == 0 or n == 1:\n",
    "        return 1\n",
    "    else:\n",
    "        return n * factorial(n - 1)\n",
    "answer=factorial(Num)\n",
    "print(\"The factorial of the\",Num,\"is\",answer)\n",
    "\n",
    "\n",
    "\n",
    "\n"
   ]
  },
  {
   "cell_type": "code",
   "execution_count": 22,
   "id": "56fc1ce1-9b92-43ba-baba-3706e538fbc5",
   "metadata": {},
   "outputs": [
    {
     "name": "stdin",
     "output_type": "stream",
     "text": [
      "Enter the positive number:  1234\n"
     ]
    },
    {
     "name": "stdout",
     "output_type": "stream",
     "text": [
      "10\n"
     ]
    }
   ],
   "source": [
    "# We take input from the user using for loop we segrigate all digits and find their sum with the help of operators.\n",
    "\n",
    "\n",
    "Num= (input(\"Enter the positive number: \"))\n",
    "sum=0\n",
    "for i in Num:\n",
    "    sum+=int(i)\n",
    "print(sum)"
   ]
  },
  {
   "cell_type": "code",
   "execution_count": 24,
   "id": "389fadd2-4d57-4eb5-aa0b-9e2989692d17",
   "metadata": {},
   "outputs": [
    {
     "name": "stdin",
     "output_type": "stream",
     "text": [
      "Enter the year:  1900\n"
     ]
    },
    {
     "name": "stdout",
     "output_type": "stream",
     "text": [
      "1900 is not a leap year\n"
     ]
    }
   ],
   "source": [
    "# We ask user to enter the year, first we find it is a century year or not .If it is a century year we divide by 400 \n",
    "# if it is not a century year divide by 4 and with the help of if and else statement we can find is it leap year or not.\n",
    "\n",
    "year=int(input(\"Enter the year: \"))\n",
    "if year%100==0:\n",
    "    if year%400==0:\n",
    "        print(year,\"is a leap year\")\n",
    "    else:\n",
    "        print(year,\"is not a leap year\")\n",
    "elif year%4==0:\n",
    "    print(year,\"is a leap year\")\n",
    "else:\n",
    "    print(year,\"is not a leap year\")"
   ]
  },
  {
   "cell_type": "code",
   "execution_count": 39,
   "id": "b076cfa2-c63a-4491-937f-1ec9f4d1c1a5",
   "metadata": {},
   "outputs": [
    {
     "name": "stdin",
     "output_type": "stream",
     "text": [
      "enter your name Ramesh\n",
      "enter the time in the form hh:mm:am/pm 12:00:pm\n"
     ]
    },
    {
     "name": "stdout",
     "output_type": "stream",
     "text": [
      "Good Morning Ramesh\n"
     ]
    }
   ],
   "source": [
    "# Take time from the user in the format hh:mm:am/pm and define the time as good morning , good afternoon and good night\n",
    "# Using split function and if, elif, else statement we satisfy the condition and print the greeting accordingly.\n",
    "name=input(\"enter your name\")\n",
    "time=input(\"enter the time in the form hh:mm:am/pm\")\n",
    "p=time.split(\":\")\n",
    "hour=int(p[0])\n",
    "am_pm=p[2].split(\":\")\n",
    "if hour>=1 and hour<=11 and \"am\" in am_pm:\n",
    "    print(\"Good Morning\",name)\n",
    "elif hour==12 and \"pm\" in am_pm:\n",
    "    print(\"Good Morning\",name)\n",
    "elif hour>=1 and hour<=5 and \"pm\"in am_pm:\n",
    "    print(\"Good Afternoon\",name)\n",
    "else:\n",
    "   print(\"Good Evening\",name)"
   ]
  },
  {
   "cell_type": "code",
   "execution_count": 15,
   "id": "5b3ea4a5-e78e-46fd-b3f5-e13d3fed2723",
   "metadata": {},
   "outputs": [
    {
     "name": "stdin",
     "output_type": "stream",
     "text": [
      "enter your name Amit\n"
     ]
    },
    {
     "name": "stdout",
     "output_type": "stream",
     "text": [
      "Amit Welcome to Rock, Paper, Scissors game...!\n"
     ]
    },
    {
     "name": "stdin",
     "output_type": "stream",
     "text": [
      "enter 'rock', 'paper', 'scissors','quit': rock\n"
     ]
    },
    {
     "name": "stdout",
     "output_type": "stream",
     "text": [
      "ooh it's tie\n"
     ]
    },
    {
     "name": "stdin",
     "output_type": "stream",
     "text": [
      "enter 'rock', 'paper', 'scissors','quit': paper\n"
     ]
    },
    {
     "name": "stdout",
     "output_type": "stream",
     "text": [
      "wow! You won\n"
     ]
    },
    {
     "name": "stdin",
     "output_type": "stream",
     "text": [
      "enter 'rock', 'paper', 'scissors','quit': paper\n"
     ]
    },
    {
     "name": "stdout",
     "output_type": "stream",
     "text": [
      "wow! You won\n"
     ]
    },
    {
     "name": "stdin",
     "output_type": "stream",
     "text": [
      "enter 'rock', 'paper', 'scissors','quit': scissors\n"
     ]
    },
    {
     "name": "stdout",
     "output_type": "stream",
     "text": [
      "oops! you lost\n"
     ]
    },
    {
     "name": "stdin",
     "output_type": "stream",
     "text": [
      "enter 'rock', 'paper', 'scissors','quit': quit\n"
     ]
    },
    {
     "name": "stdout",
     "output_type": "stream",
     "text": [
      "you won= 2\n",
      "you  lost= 1\n",
      "tie= 1\n"
     ]
    }
   ],
   "source": [
    "# First we define random selection then take input from the users and follow the condition of the game with the help of operators and if,else statement\n",
    "# then count the no of tie,won and lost matches and print them.\n",
    "name=input(\"enter your name\")\n",
    "print(name,\"Welcome to Rock, Paper, Scissors game...!\")\n",
    "import random\n",
    "def system_choice():\n",
    "    return random.choice([\"rock\", \"paper\", \"scissors\"])\n",
    "choice= system_choice()    \n",
    "win=0\n",
    "lost=0\n",
    "tie=0\n",
    "while True:\n",
    "    user_choice = input(\"enter 'rock', 'paper', 'scissors','quit':\")\n",
    "    if user_choice==\"quit\":\n",
    "        break\n",
    "    else:\n",
    "        if user_choice==\"rock\" and choice==\"scissors\" or user_choice==\"paper\" and choice==\"rock\" or\\\n",
    "    user_choice==\"scissors\" and choice==\"paper\":\n",
    "            win+=1\n",
    "            print(\"wow! You won\")\n",
    "        elif user_choice==choice:\n",
    "            tie+=1\n",
    "            print(\"ooh it's tie\")\n",
    "        else:\n",
    "            lost+=1\n",
    "            print(\"oops! you lost\")\n",
    "print(\"you won=\",win)\n",
    "print(\"you  lost=\",lost)\n",
    "print(\"tie=\",tie)\n"
   ]
  },
  {
   "cell_type": "code",
   "execution_count": null,
   "id": "3d6dadb5-5dd7-4d67-954a-e9f2b79914ef",
   "metadata": {},
   "outputs": [],
   "source": []
  }
 ],
 "metadata": {
  "kernelspec": {
   "display_name": "Python [conda env:base] *",
   "language": "python",
   "name": "conda-base-py"
  },
  "language_info": {
   "codemirror_mode": {
    "name": "ipython",
    "version": 3
   },
   "file_extension": ".py",
   "mimetype": "text/x-python",
   "name": "python",
   "nbconvert_exporter": "python",
   "pygments_lexer": "ipython3",
   "version": "3.13.5"
  }
 },
 "nbformat": 4,
 "nbformat_minor": 5
}
