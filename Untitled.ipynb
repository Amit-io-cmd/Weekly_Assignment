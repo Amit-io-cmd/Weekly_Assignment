{
 "cells": [
  {
   "cell_type": "code",
   "execution_count": null,
   "id": "e9ddc8ea-35d0-4035-a8ef-9ef96c596758",
   "metadata": {},
   "outputs": [],
   "source": [
    "sal=int(input(\"Enter the salary\"))\n",
    "if sal<=100000:\n",
    "    print(\"no tax\")\n",
    "elif sal>100000 and sal<=500000:\n",
    "    print(\"tax to be paid=\",(sal-100000)*0.10)\n",
    "elif sal>500000:\n",
    "    print(\"tax to be paid=\",(sal-500000)*0.20+(400000*0.10))\n",
    "    "
   ]
  },
  {
   "cell_type": "code",
   "execution_count": 1,
   "id": "ef6b897e-0200-4cca-8bf0-f5eb29cb76a7",
   "metadata": {
    "scrolled": true
   },
   "outputs": [
    {
     "ename": "KeyboardInterrupt",
     "evalue": "Interrupted by user",
     "output_type": "error",
     "traceback": [
      "\u001b[1;31m---------------------------------------------------------------------------\u001b[0m",
      "\u001b[1;31mKeyboardInterrupt\u001b[0m                         Traceback (most recent call last)",
      "Cell \u001b[1;32mIn[1], line 1\u001b[0m\n\u001b[1;32m----> 1\u001b[0m sal\u001b[38;5;241m=\u001b[39m\u001b[38;5;28mint\u001b[39m(\u001b[38;5;28minput\u001b[39m(\u001b[38;5;124m\"\u001b[39m\u001b[38;5;124mEnter the salary\u001b[39m\u001b[38;5;124m\"\u001b[39m))\n\u001b[0;32m      2\u001b[0m \u001b[38;5;28;01mif\u001b[39;00m sal\u001b[38;5;241m<\u001b[39m\u001b[38;5;241m=\u001b[39m\u001b[38;5;241m100000\u001b[39m:\n\u001b[0;32m      3\u001b[0m     \u001b[38;5;28mprint\u001b[39m(\u001b[38;5;124m\"\u001b[39m\u001b[38;5;124mno tax\u001b[39m\u001b[38;5;124m\"\u001b[39m)\n",
      "File \u001b[1;32m~\\anaconda3\\Lib\\site-packages\\ipykernel\\kernelbase.py:1282\u001b[0m, in \u001b[0;36mKernel.raw_input\u001b[1;34m(self, prompt)\u001b[0m\n\u001b[0;32m   1280\u001b[0m     msg \u001b[38;5;241m=\u001b[39m \u001b[38;5;124m\"\u001b[39m\u001b[38;5;124mraw_input was called, but this frontend does not support input requests.\u001b[39m\u001b[38;5;124m\"\u001b[39m\n\u001b[0;32m   1281\u001b[0m     \u001b[38;5;28;01mraise\u001b[39;00m StdinNotImplementedError(msg)\n\u001b[1;32m-> 1282\u001b[0m \u001b[38;5;28;01mreturn\u001b[39;00m \u001b[38;5;28mself\u001b[39m\u001b[38;5;241m.\u001b[39m_input_request(\n\u001b[0;32m   1283\u001b[0m     \u001b[38;5;28mstr\u001b[39m(prompt),\n\u001b[0;32m   1284\u001b[0m     \u001b[38;5;28mself\u001b[39m\u001b[38;5;241m.\u001b[39m_parent_ident[\u001b[38;5;124m\"\u001b[39m\u001b[38;5;124mshell\u001b[39m\u001b[38;5;124m\"\u001b[39m],\n\u001b[0;32m   1285\u001b[0m     \u001b[38;5;28mself\u001b[39m\u001b[38;5;241m.\u001b[39mget_parent(\u001b[38;5;124m\"\u001b[39m\u001b[38;5;124mshell\u001b[39m\u001b[38;5;124m\"\u001b[39m),\n\u001b[0;32m   1286\u001b[0m     password\u001b[38;5;241m=\u001b[39m\u001b[38;5;28;01mFalse\u001b[39;00m,\n\u001b[0;32m   1287\u001b[0m )\n",
      "File \u001b[1;32m~\\anaconda3\\Lib\\site-packages\\ipykernel\\kernelbase.py:1325\u001b[0m, in \u001b[0;36mKernel._input_request\u001b[1;34m(self, prompt, ident, parent, password)\u001b[0m\n\u001b[0;32m   1322\u001b[0m \u001b[38;5;28;01mexcept\u001b[39;00m \u001b[38;5;167;01mKeyboardInterrupt\u001b[39;00m:\n\u001b[0;32m   1323\u001b[0m     \u001b[38;5;66;03m# re-raise KeyboardInterrupt, to truncate traceback\u001b[39;00m\n\u001b[0;32m   1324\u001b[0m     msg \u001b[38;5;241m=\u001b[39m \u001b[38;5;124m\"\u001b[39m\u001b[38;5;124mInterrupted by user\u001b[39m\u001b[38;5;124m\"\u001b[39m\n\u001b[1;32m-> 1325\u001b[0m     \u001b[38;5;28;01mraise\u001b[39;00m \u001b[38;5;167;01mKeyboardInterrupt\u001b[39;00m(msg) \u001b[38;5;28;01mfrom\u001b[39;00m\u001b[38;5;250m \u001b[39m\u001b[38;5;28;01mNone\u001b[39;00m\n\u001b[0;32m   1326\u001b[0m \u001b[38;5;28;01mexcept\u001b[39;00m \u001b[38;5;167;01mException\u001b[39;00m:\n\u001b[0;32m   1327\u001b[0m     \u001b[38;5;28mself\u001b[39m\u001b[38;5;241m.\u001b[39mlog\u001b[38;5;241m.\u001b[39mwarning(\u001b[38;5;124m\"\u001b[39m\u001b[38;5;124mInvalid Message:\u001b[39m\u001b[38;5;124m\"\u001b[39m, exc_info\u001b[38;5;241m=\u001b[39m\u001b[38;5;28;01mTrue\u001b[39;00m)\n",
      "\u001b[1;31mKeyboardInterrupt\u001b[0m: Interrupted by user"
     ]
    }
   ],
   "source": [
    "sal=int(input(\"Enter the salary\"))\n",
    "if sal<=100000:\n",
    "    print(\"no tax\")\n",
    "elif sal>100000 and sal<=500000:\n",
    "    print(\"tax to be paid=\",(sal-100000)*0.10)\n",
    "elif sal>500000:\n",
    "    print(\"tax to be paid=\",((sal-500000)*0.20+(400000*0.10)))"
   ]
  },
  {
   "cell_type": "code",
   "execution_count": 2,
   "id": "7a4cdb0a-8f78-43b8-a9f7-58f5c35d2ce9",
   "metadata": {},
   "outputs": [
    {
     "name": "stdout",
     "output_type": "stream",
     "text": [
      "aman\n"
     ]
    }
   ],
   "source": [
    "print(\"aman\")"
   ]
  },
  {
   "cell_type": "code",
   "execution_count": 2,
   "id": "44094400-96ce-4e93-baa7-af75dee03171",
   "metadata": {},
   "outputs": [
    {
     "name": "stdin",
     "output_type": "stream",
     "text": [
      "Enter the salary 600000\n"
     ]
    },
    {
     "name": "stdout",
     "output_type": "stream",
     "text": [
      "tax to be paid= 60000.0\n"
     ]
    }
   ],
   "source": [
    "sal=int(input(\"Enter the salary\"))\n",
    "if sal<=100000:\n",
    "    print(\"no tax\")\n",
    "elif sal>100000 and sal<=500000:\n",
    "    print(\"tax to be paid=\",(sal-100000)*0.10)\n",
    "elif sal>500000:\n",
    "    print(\"tax to be paid=\",((sal-500000)*0.20+(400000*0.10)))"
   ]
  },
  {
   "cell_type": "code",
   "execution_count": 2,
   "id": "641178a0-529b-41bf-b0c2-753160e8c2fd",
   "metadata": {},
   "outputs": [
    {
     "data": {
      "text/plain": [
       "0.7999999999999999"
      ]
     },
     "execution_count": 2,
     "metadata": {},
     "output_type": "execute_result"
    }
   ],
   "source": [
    "0.7+0.1"
   ]
  },
  {
   "cell_type": "code",
   "execution_count": 5,
   "id": "cdcfcf14-b10e-4f56-be47-474b55cc0327",
   "metadata": {},
   "outputs": [
    {
     "name": "stdout",
     "output_type": "stream",
     "text": [
      "['python', 'communication', 'ethics', 'computer', 'Maths']\n",
      "['python', 'communication', 'ethics', 'computer', 'Maths', 'electronics']\n",
      "['python', 'communication', 'computer', 'Maths', 'electronics']\n"
     ]
    }
   ],
   "source": [
    "subject=[\"python\",\"communication\",\"ethics\",\"computer\",\"Maths\"]\n",
    "print(subject)\n",
    "subject.append(\"electronics\")\n",
    "print(subject)\n",
    "del subject[2]\n",
    "print(subject)"
   ]
  },
  {
   "cell_type": "code",
   "execution_count": 9,
   "id": "dc0e8ee6-3493-4f61-a11f-eb6c06971c5b",
   "metadata": {},
   "outputs": [
    {
     "name": "stdout",
     "output_type": "stream",
     "text": [
      "['python', 'communication', 'ethics', 'computer', 'Maths']\n"
     ]
    },
    {
     "name": "stdin",
     "output_type": "stream",
     "text": [
      "enter the name of subject you wish to add history\n"
     ]
    },
    {
     "name": "stdout",
     "output_type": "stream",
     "text": [
      "['python', 'communication', 'ethics', 'computer', 'Maths', 'history']\n"
     ]
    },
    {
     "name": "stdin",
     "output_type": "stream",
     "text": [
      "enter the position of list which you want to remove 3\n"
     ]
    },
    {
     "name": "stdout",
     "output_type": "stream",
     "text": [
      "['python', 'communication', 'computer', 'Maths', 'history']\n"
     ]
    }
   ],
   "source": [
    "subject=[\"python\",\"communication\",\"ethics\",\"computer\",\"Maths\"]\n",
    "print(subject)\n",
    "x=input(\"enter the name of subject you wish to add\")\n",
    "subject.append(x)\n",
    "print(subject)\n",
    "y= int(input(\"enter the position of list which you want to remove\"))\n",
    "del subject[2]\n",
    "print(subject)"
   ]
  },
  {
   "cell_type": "code",
   "execution_count": 11,
   "id": "52f5908b-afed-4cb8-b773-433f48cec1e6",
   "metadata": {},
   "outputs": [
    {
     "name": "stdin",
     "output_type": "stream",
     "text": [
      "inter the temperature in the kelvin 273\n"
     ]
    },
    {
     "name": "stdout",
     "output_type": "stream",
     "text": [
      "523.4000000000001\n"
     ]
    }
   ],
   "source": [
    "#take the temperature in celcius as input from the user convert into farenheit using the formula\n",
    "c=int(input(\"inter the temperature in the kelvin\"))\n",
    "F=9/5*c+32\n",
    "print(F)\n"
   ]
  },
  {
   "cell_type": "code",
   "execution_count": 15,
   "id": "f09e4d6d-21ee-4a7a-b261-6396b66de756",
   "metadata": {},
   "outputs": [
    {
     "ename": "SyntaxError",
     "evalue": "invalid syntax. Perhaps you forgot a comma? (2503614406.py, line 3)",
     "output_type": "error",
     "traceback": [
      "\u001b[1;36m  Cell \u001b[1;32mIn[15], line 3\u001b[1;36m\u001b[0m\n\u001b[1;33m    a=int(input,(\"enter the first number\")\u001b[0m\n\u001b[1;37m                 ^\u001b[0m\n\u001b[1;31mSyntaxError\u001b[0m\u001b[1;31m:\u001b[0m invalid syntax. Perhaps you forgot a comma?\n"
     ]
    }
   ],
   "source": [
    "# Evaluate the quardratic equation for the given a,b and c. Thake input from the user\n",
    "from math import *\n",
    "a=int(input(\"enter the first number\")\n",
    "b=int(input(\"enter the second number\")\n",
    "#c=int(input(\"enter the third number\")\n",
    "#d=b**2-4*a*c\n",
    "#print(d)\n"
   ]
  },
  {
   "cell_type": "code",
   "execution_count": 12,
   "id": "6d6b10fe-deaa-4af4-aa45-e7851b9fcc8e",
   "metadata": {},
   "outputs": [
    {
     "name": "stdin",
     "output_type": "stream",
     "text": [
      "How much money do you have 110\n"
     ]
    },
    {
     "name": "stdout",
     "output_type": "stream",
     "text": [
      "('No of books you can buy', 1)\n",
      "('you need additional money to afford a book =', 108)\n"
     ]
    }
   ],
   "source": [
    "#Write a program that prompts the user for the amount of money they have, then reports how many books(price of 109 for every book)\n",
    "#the person can afford and how much more money he/she will need to afford a dditional book\n",
    "money=int(input(\"How much money do you have\"))\n",
    "b= money//109\n",
    "p=(\"No of books you can buy\",b)\n",
    "print(p)\n",
    "l=109-(money%109)\n",
    "q=(\"you need additional money to afford a book =\",l)\n",
    "print(q)"
   ]
  },
  {
   "cell_type": "code",
   "execution_count": 5,
   "id": "fa60720e-409d-4896-90a6-271a304cc1fc",
   "metadata": {},
   "outputs": [
    {
     "name": "stdin",
     "output_type": "stream",
     "text": [
      "Enter a number 3.4\n",
      "Enter second number 5\n"
     ]
    },
    {
     "name": "stdout",
     "output_type": "stream",
     "text": [
      "8.4\n"
     ]
    }
   ],
   "source": [
    "a=float(input(\"Enter a number\"))\n",
    "b=int(input(\"Enter second number\"))\n",
    "c=a+b\n",
    "print(c)"
   ]
  },
  {
   "cell_type": "code",
   "execution_count": 1,
   "id": "5d5eb8cc-4c49-4669-a3da-d6f273c38a0a",
   "metadata": {},
   "outputs": [
    {
     "name": "stdout",
     "output_type": "stream",
     "text": [
      "['c']\n"
     ]
    }
   ],
   "source": [
    "#create a new list from mylist that contains no vowels\n",
    "newlist=[]\n",
    "x=['a','e','i','o','u']\n",
    "mylist=['Python','c','java','haskell','aeiou']\n",
    "for word in mylist:\n",
    "    cond = True\n",
    "    for vow in x:\n",
    "        if vow in word:\n",
    "            cond = False\n",
    "            break\n",
    "    if cond == True:\n",
    "        newlist.append(word)\n",
    "print(newlist)\n"
   ]
  },
  {
   "cell_type": "code",
   "execution_count": 2,
   "id": "795e1e7c-71e3-45fa-92a7-dc4f2c13ba05",
   "metadata": {},
   "outputs": [
    {
     "name": "stdout",
     "output_type": "stream",
     "text": [
      "***\n",
      "***\n",
      "***\n"
     ]
    }
   ],
   "source": [
    "for i in range (3):\n",
    "    for j in range(3):\n",
    "        print(\"*\",end='')\n",
    "    print()"
   ]
  },
  {
   "cell_type": "code",
   "execution_count": 3,
   "id": "5c7fb90c-f2f7-43d3-9ce9-15e9bd2f7514",
   "metadata": {},
   "outputs": [
    {
     "name": "stdout",
     "output_type": "stream",
     "text": [
      "*\n",
      "**\n",
      "***\n"
     ]
    }
   ],
   "source": [
    "for i in range (3):\n",
    "    for j in range(i+1):\n",
    "        print(\"*\",end='')\n",
    "    print()"
   ]
  },
  {
   "cell_type": "code",
   "execution_count": 7,
   "id": "242f11fc-120c-4632-bd9b-ae8da02deec2",
   "metadata": {},
   "outputs": [
    {
     "name": "stdout",
     "output_type": "stream",
     "text": [
      "1\n",
      "12\n",
      "123\n"
     ]
    }
   ],
   "source": [
    "for i in range (3):\n",
    "    for j in range(i+1):\n",
    "        print(j+1,end='')\n",
    "    print()"
   ]
  },
  {
   "cell_type": "code",
   "execution_count": 23,
   "id": "1e2e90d9-a10e-449d-a85a-85fd3f0ae222",
   "metadata": {},
   "outputs": [
    {
     "name": "stdout",
     "output_type": "stream",
     "text": [
      "***\n",
      "**\n",
      "*\n"
     ]
    }
   ],
   "source": [
    "t=0\n",
    "for i in range (3):\n",
    "    for j in range(3-t):\n",
    "        print(\"*\",end='')\n",
    "    t=t+1\n",
    "    print()"
   ]
  },
  {
   "cell_type": "code",
   "execution_count": 25,
   "id": "b320f0ab-9ffa-4aac-8548-1a77df2d250a",
   "metadata": {},
   "outputs": [
    {
     "name": "stdout",
     "output_type": "stream",
     "text": [
      "***\n",
      "**\n",
      "*\n"
     ]
    }
   ],
   "source": [
    "for i in range (3):\n",
    "    for j in range(3-i):\n",
    "        print(\"*\",end='')\n",
    "    print()"
   ]
  },
  {
   "cell_type": "code",
   "execution_count": 32,
   "id": "7d51c9f5-c603-4be7-9832-300ca799a9a7",
   "metadata": {},
   "outputs": [
    {
     "name": "stdout",
     "output_type": "stream",
     "text": [
      "0\n",
      "12\n",
      "234\n"
     ]
    }
   ],
   "source": [
    "for i in range (3):\n",
    "    for j in range(i+1):\n",
    "        print(i+j,end='')\n",
    "    print()"
   ]
  },
  {
   "cell_type": "code",
   "execution_count": 2,
   "id": "8935fc91-d50f-4ad9-8aad-1339a464ad42",
   "metadata": {},
   "outputs": [
    {
     "data": {
      "text/plain": [
       "'java'"
      ]
     },
     "execution_count": 2,
     "metadata": {},
     "output_type": "execute_result"
    }
   ],
   "source": [
    "mytuple=('python','c','java')\n",
    "mytuple[2]"
   ]
  },
  {
   "cell_type": "code",
   "execution_count": 6,
   "id": "2c26bc17-e15e-42d0-868f-ef1902245a8b",
   "metadata": {},
   "outputs": [
    {
     "name": "stdout",
     "output_type": "stream",
     "text": [
      "('Python', 'c', 'java', 'haskell', 'aeiou', 'scala')\n"
     ]
    }
   ],
   "source": [
    "mytuple=('Python','c','java','haskell','aeiou')\n",
    "tuple2=('scala',)\n",
    "mytuple+=tuple2\n",
    "print(mytuple)"
   ]
  },
  {
   "cell_type": "code",
   "execution_count": 10,
   "id": "336d8c08-1fef-4b9e-93ac-c3f18681d71d",
   "metadata": {},
   "outputs": [
    {
     "name": "stdout",
     "output_type": "stream",
     "text": [
      "Python\n"
     ]
    }
   ],
   "source": [
    "mytuple=('Python','c','java')\n",
    "(first,second,third)=mytuple\n",
    "print(first)"
   ]
  },
  {
   "cell_type": "code",
   "execution_count": 15,
   "id": "069ae093-8a9d-4f3a-ac72-7e21037bbef7",
   "metadata": {},
   "outputs": [
    {
     "name": "stdout",
     "output_type": "stream",
     "text": [
      "{'c', 'haskell', 'Python', 'aeiou', 'java'}\n",
      "5\n"
     ]
    }
   ],
   "source": [
    "myset={'Python','c','java','haskell','aeiou','c'}\n",
    "print(myset)\n",
    "print(len(myset))"
   ]
  },
  {
   "cell_type": "code",
   "execution_count": 24,
   "id": "77c5d966-cff6-489a-9d74-9eb2224ac904",
   "metadata": {},
   "outputs": [
    {
     "name": "stdout",
     "output_type": "stream",
     "text": [
      "{'ethics', 'Maths', 'computer', 'python', 'communication'}\n",
      "ethics\n",
      "Maths\n",
      "computer\n",
      "python\n",
      "communication\n",
      "yes\n"
     ]
    }
   ],
   "source": [
    "subject=[\"python\",\"communication\",\"ethics\",\"computer\",\"Maths\",\"python\",\"communication\",\"ethics\",\"computer\",\"Maths\",\"computer\",\"Maths\",\"python\"]\n",
    "myset=set(subject)\n",
    "mylist=list(myset)\n",
    "print(myset)\n",
    "for x  in myset:\n",
    "    print(x)\n",
    "if 'pythn' not in myset:\n",
    "    print(\"yes\")\n",
    "else:\n",
    "    print(\"moye moye\")"
   ]
  },
  {
   "cell_type": "code",
   "execution_count": 26,
   "id": "3b014c23-b72c-4244-ab0f-9031d58c5077",
   "metadata": {},
   "outputs": [
    {
     "name": "stdout",
     "output_type": "stream",
     "text": [
      "{'Python', 'c++', 'c', 'java'}\n"
     ]
    }
   ],
   "source": [
    "myset={'Python','c','java'}\n",
    "myset.add('c++')\n",
    "print(myset)\n",
    "# myset.remove()\n",
    "# myset.discard()\n",
    "# myset.clear() for empty set\n",
    "# del myset deletes the set\n",
    "# myset.union()\n",
    "# myset.intersection()"
   ]
  },
  {
   "cell_type": "code",
   "execution_count": 33,
   "id": "7a17b722-0f5d-4783-9635-d0f3f7dc4b26",
   "metadata": {},
   "outputs": [
    {
     "name": "stdout",
     "output_type": "stream",
     "text": [
      "{'c++', 'Scala', 'Python', 'c', 'java'}\n"
     ]
    }
   ],
   "source": [
    "myset={'Python','c','java'}\n",
    "yourset=('c++','Scala')\n",
    "myset.update(yourset)# can update with list ,tuple,etc.\n",
    "print(myset)"
   ]
  },
  {
   "cell_type": "code",
   "execution_count": 45,
   "id": "39b7b7f2-5b02-4d79-9ca1-939724f4374c",
   "metadata": {},
   "outputs": [
    {
     "name": "stdout",
     "output_type": "stream",
     "text": [
      "Hello! i am in a function.\n",
      "Hello! i am in a function.\n",
      "Hello! i am in a function.\n",
      "Hello! i am in a function.\n",
      "Hello! i am in a function.\n"
     ]
    }
   ],
   "source": [
    "def my_func():\n",
    "    print(\"Hello! i am in a function.\")\n",
    "#my_func()\n",
    "for i in range(5):\n",
    "    my_func()\n"
   ]
  },
  {
   "cell_type": "code",
   "execution_count": 52,
   "id": "c4aa64b9-ef04-4e85-902a-d6947678c987",
   "metadata": {},
   "outputs": [
    {
     "name": "stdout",
     "output_type": "stream",
     "text": [
      "Hello! Akshay kumar\n"
     ]
    }
   ],
   "source": [
    "def my_func(firstname):\n",
    "    print(\"Hello! \" + firstname +\"kumar\")\n",
    "my_func(\"Akshay \")\n",
    "\n",
    "    "
   ]
  },
  {
   "cell_type": "code",
   "execution_count": 54,
   "id": "de2a7c30-d273-4c6e-89cf-bca4da356f3b",
   "metadata": {},
   "outputs": [
    {
     "name": "stdout",
     "output_type": "stream",
     "text": [
      "30\n"
     ]
    }
   ],
   "source": [
    "def my_func(first,second):\n",
    "    print(first+second)\n",
    "my_func(10,20)\n",
    "    "
   ]
  },
  {
   "cell_type": "code",
   "execution_count": 56,
   "id": "dca9e88d-6f2f-4d6c-ab22-845eee3c6604",
   "metadata": {},
   "outputs": [
    {
     "name": "stdout",
     "output_type": "stream",
     "text": [
      "I am from swedon\n",
      "I am from INDIA\n"
     ]
    }
   ],
   "source": [
    "def my_func(country=\"INDIA\"):\n",
    "    print(\"I am from \" + country)\n",
    "my_func(\"swedon\")\n",
    "my_func()"
   ]
  },
  {
   "cell_type": "code",
   "execution_count": 64,
   "id": "8006706b-103c-453d-8426-98b4c0373ae6",
   "metadata": {},
   "outputs": [
    {
     "name": "stdout",
     "output_type": "stream",
     "text": [
      "paskal\n",
      "communication\n",
      "ethics\n",
      "computer\n",
      "Maths\n"
     ]
    }
   ],
   "source": [
    "#passing list as a parameter \n",
    "subject=[\"python\",\"communication\",\"ethics\",\"computer\",\"Maths\"]\n",
    "#subject.append(\"hindi\")\n",
    "def my_func(subj):\n",
    "    for x in subj:\n",
    "        print(x)\n",
    "subject[0]=\"paskal\"\n",
    "my_func(subject)"
   ]
  },
  {
   "cell_type": "code",
   "execution_count": 67,
   "id": "ec15377e-a8d9-48fd-9e55-2f9afc7bb929",
   "metadata": {},
   "outputs": [
    {
     "name": "stdout",
     "output_type": "stream",
     "text": [
      "python\n",
      "communication\n",
      "ethics\n",
      "computer\n",
      "Maths\n",
      "['paskal', 'communication', 'ethics', 'computer', 'Maths']\n"
     ]
    }
   ],
   "source": [
    "def my_func(subj):\n",
    "    for x in subj:\n",
    "        print(x)\n",
    "    subj[0]=\"paskal\"\n",
    "subject=[\"python\",\"communication\",\"ethics\",\"computer\",\"Maths\"]\n",
    "my_func(subject)\n",
    "print(subject)\n"
   ]
  },
  {
   "cell_type": "code",
   "execution_count": 70,
   "id": "06fbddd3-f359-498c-862e-2e32304ec5d4",
   "metadata": {},
   "outputs": [
    {
     "name": "stdout",
     "output_type": "stream",
     "text": [
      "5\n",
      "5\n"
     ]
    }
   ],
   "source": [
    "def my_func(w):\n",
    "    w=10\n",
    "x=5\n",
    "print(x)\n",
    "my_func(x)\n",
    "print(x)"
   ]
  },
  {
   "cell_type": "code",
   "execution_count": 73,
   "id": "a1dd820c-16ce-4b51-879e-7ac96bfa1053",
   "metadata": {},
   "outputs": [
    {
     "name": "stdout",
     "output_type": "stream",
     "text": [
      "5\n"
     ]
    }
   ],
   "source": [
    "def my_func(w):\n",
    "    w=10\n",
    "x=5\n",
    "print(x)\n",
    "my_func(10)"
   ]
  },
  {
   "cell_type": "code",
   "execution_count": 77,
   "id": "06315200-7de0-40bd-be9f-b6f5a3f471ea",
   "metadata": {},
   "outputs": [
    {
     "name": "stdout",
     "output_type": "stream",
     "text": [
      "1024\n"
     ]
    }
   ],
   "source": [
    "def multiply_five(X):\n",
    "    return 2**X\n",
    "M=multiply_five(10)\n",
    "print(M)"
   ]
  },
  {
   "cell_type": "code",
   "execution_count": null,
   "id": "3fd79be2-2267-4068-8ceb-aa9fcb7286a2",
   "metadata": {},
   "outputs": [],
   "source": [
    "# problem no-1\n",
    "def chocolate_piles(n):\n",
    "    piles=[]\n",
    "    x=n\n",
    "    piles.append(x)\n",
    "    for i in range(1,n):\n",
    "        x+=2\n",
    "        piles.append(x)\n",
    "    return(piles)\n",
    "n=int(input(\"enter number of piles \"))\n",
    "print(\"distribution is as follows\",chocolate_piles(n))\n",
    "     \n"
   ]
  },
  {
   "cell_type": "code",
   "execution_count": 50,
   "id": "0dcf2959-026f-4de5-9fc7-f613a698e8d8",
   "metadata": {},
   "outputs": [
    {
     "name": "stdin",
     "output_type": "stream",
     "text": [
      "enter the numbers sepersted by comma 12,45,67,89\n",
      "enter the treshold 70\n"
     ]
    },
    {
     "name": "stdout",
     "output_type": "stream",
     "text": [
      "['12', '45', '67']\n"
     ]
    }
   ],
   "source": [
    "#problem no-3\n",
    "x=input(\"enter the numbers sepersted by comma\")\n",
    "th=int(input(\"enter the treshold\"))\n",
    "y=x.split(',')\n",
    "z=[]\n",
    "for i in y:\n",
    "    if int(i)<th:\n",
    "        z.append(i)\n",
    "print(z)\n"
   ]
  },
  {
   "cell_type": "code",
   "execution_count": 58,
   "id": "a07e529f-5b5b-4d0a-8ea2-d4c35eefda06",
   "metadata": {},
   "outputs": [
    {
     "ename": "IndentationError",
     "evalue": "unindent does not match any outer indentation level (<string>, line 11)",
     "output_type": "error",
     "traceback": [
      "\u001b[1;36m  File \u001b[1;32m<string>:11\u001b[1;36m\u001b[0m\n\u001b[1;33m    else:\u001b[0m\n\u001b[1;37m         ^\u001b[0m\n\u001b[1;31mIndentationError\u001b[0m\u001b[1;31m:\u001b[0m unindent does not match any outer indentation level\n"
     ]
    }
   ],
   "source": [
    "x=int(input(\"enter the number of string\"))\n",
    "z=[]\n",
    "for i in range(x):\n",
    "    if i<x:\n",
    "        p=input(\"enter the string\")\n",
    "        z.append(p)\n",
    "print(z)\n",
    "for i in z:\n",
    "    if 'madamimadam'==i:\n",
    "    print(\"True\")\n",
    "   else:\n",
    "       print(\"False\")\n",
    "       \n",
    "    \n"
   ]
  },
  {
   "cell_type": "code",
   "execution_count": 6,
   "id": "d477020a-1eb8-43fd-a2f3-eabfabecf9c9",
   "metadata": {},
   "outputs": [
    {
     "name": "stdout",
     "output_type": "stream",
     "text": [
      "python\n",
      "satyam\n",
      "c\n"
     ]
    }
   ],
   "source": [
    "def my_func(subj):\n",
    "    for x in subj:\n",
    "        subj[1]=\"satyam\"\n",
    "        print(x)\n",
    "subjects=[\"python\",\"java\",\"c\"]\n",
    "my_func(subjects)"
   ]
  },
  {
   "cell_type": "code",
   "execution_count": 7,
   "id": "46fbde28-871e-4d18-a184-21e2666af6e8",
   "metadata": {},
   "outputs": [
    {
     "name": "stdout",
     "output_type": "stream",
     "text": [
      "The third id is gamma\n"
     ]
    }
   ],
   "source": [
    "def my_func(*id):\n",
    "    print(\"The third id is \"+id[2])\n",
    "my_func(\"alpha\",\"bete\",\"gamma\")"
   ]
  },
  {
   "cell_type": "code",
   "execution_count": 8,
   "id": "988000ca-dfc6-4e61-a571-674857e68bd2",
   "metadata": {},
   "outputs": [
    {
     "name": "stdout",
     "output_type": "stream",
     "text": [
      "The oldest child is  nitin\n"
     ]
    }
   ],
   "source": [
    "def my_func(ch1,ch2,ch3):\n",
    "    print(\"The oldest child is  \"+ch1)\n",
    "my_func(ch2=\"mukesh\",ch1=\"nitin\",ch3=\"charu\")"
   ]
  },
  {
   "cell_type": "code",
   "execution_count": 15,
   "id": "8315c2b8-8cd5-44fe-87e5-6884f188c596",
   "metadata": {},
   "outputs": [
    {
     "name": "stdout",
     "output_type": "stream",
     "text": [
      "{'ram': [15, 16, 17], 'Shyam': [17, 15, 16], 'Akshay': [16, 15, 17]}\n",
      "[16, 15, 17]\n",
      "dict_keys(['ram', 'Shyam', 'Akshay'])\n",
      "dict_values([[15, 16, 17], [17, 15, 16], [16, 15, 17]])\n"
     ]
    }
   ],
   "source": [
    "my_dict={\n",
    "    \"ram\":[15,16,17],\n",
    "    \"Shyam\":[17,15,16],\n",
    "    \"Akshay\":[16,15,17]\n",
    "     \n",
    "}\n",
    "print(my_dict)\n",
    "print(my_dict['Akshay'])\n",
    "print(my_dict.keys())\n",
    "print(my_dict.values())"
   ]
  },
  {
   "cell_type": "code",
   "execution_count": null,
   "id": "696d5f49-af1e-460f-b73b-e8320a25bf9e",
   "metadata": {},
   "outputs": [],
   "source": [
    "my_dict={\n",
    "    \"ram\":15,\n",
    "    \"Shyam\":17,\n",
    "    \"Akshay\":16,\n",
    "     \"Akshay\":17\n",
    "}\n",
    "print(my_dict)\n",
    "print(my_dict['Akshay'])\n",
    "my_dict['sal']=[15,17,16]#add an item(key=Value)\n",
    "print(my_dict)"
   ]
  },
  {
   "cell_type": "code",
   "execution_count": 16,
   "id": "e00f1bf5-ddc1-43db-9f32-cb883b2bcd88",
   "metadata": {},
   "outputs": [
    {
     "name": "stdout",
     "output_type": "stream",
     "text": [
      "dict_items([('ram', 15), ('Shyam', 17), ('Akshay', 17)])\n"
     ]
    }
   ],
   "source": [
    "my_dict={\n",
    "    \"ram\":15,\n",
    "    \"Shyam\":17,\n",
    "    \"Akshay\":16,\n",
    "     \"Akshay\":17\n",
    "}\n",
    "print(my_dict.items())\n",
    "#print(my_dict['Akshay'])\n",
    "#my_dict['sal']=[15,17,16]#add an item(key=Value)\n",
    "#print(my_dict)"
   ]
  },
  {
   "cell_type": "code",
   "execution_count": 18,
   "id": "7203bb9c-5994-4743-a1d8-8b2e64aa7a8b",
   "metadata": {},
   "outputs": [
    {
     "name": "stdout",
     "output_type": "stream",
     "text": [
      "{'ram': [15, 16, 17], 'Shyam': [17, 15, 16], 'Akshay': [16, 15, 17]}\n",
      "[16, 15, 17]\n",
      "dict_keys(['ram', 'Shyam', 'Akshay'])\n",
      "dict_values([[15, 16, 17], [17, 15, 16], [16, 15, 17]])\n",
      "dict_items([('ram', [15, 16, 17]), ('Shyam', [17, 15, 16]), ('Akshay', [16, 15, 17])])\n",
      "yes\n"
     ]
    }
   ],
   "source": [
    "my_dict={\n",
    "    \"ram\":[15,16,17],\n",
    "    \"Shyam\":[17,15,16],\n",
    "    \"Akshay\":[16,15,17]\n",
    "     \n",
    "}\n",
    "print(my_dict)\n",
    "print(my_dict['Akshay'])\n",
    "print(my_dict.keys())\n",
    "print(my_dict.values())\n",
    "print(my_dict.items())\n",
    "if 'Shyam' in my_dict:\n",
    "    print(\"yes\")\n",
    "#delete an item\n",
    "# del my_dict['Shyam']\n",
    "#my_dict.clear() # empties the dictionary\n",
    "# del my_dict # Delete entire dictonary\n"
   ]
  },
  {
   "cell_type": "code",
   "execution_count": 20,
   "id": "0ae8f35a-295b-488b-8f17-774ac2818e7f",
   "metadata": {},
   "outputs": [
    {
     "name": "stdout",
     "output_type": "stream",
     "text": [
      "ram\n",
      "Shyam\n",
      "Akshay\n",
      "[15, 16, 17]\n",
      "[17, 15, 16]\n",
      "[16, 15, 17]\n",
      "ram\n",
      "Shyam\n",
      "Akshay\n",
      "('ram', [15, 16, 17])\n",
      "('Shyam', [17, 15, 16])\n",
      "('Akshay', [16, 15, 17])\n"
     ]
    }
   ],
   "source": [
    "my_dict={\n",
    "    \"ram\":[15,16,17],\n",
    "    \"Shyam\":[17,15,16],\n",
    "    \"Akshay\":[16,15,17]\n",
    "     \n",
    "}\n",
    "# loop through tyhe dictionary \n",
    "for i in my_dict:\n",
    "    print(i)\n",
    "for i in my_dict.values():\n",
    "    print(i)\n",
    "for i in my_dict.keys():\n",
    "        print(i)\n",
    "for i in my_dict.items():# print items as tuple\n",
    "    print(i)\n",
    "\n",
    "    \n",
    "    \n"
   ]
  },
  {
   "cell_type": "code",
   "execution_count": 37,
   "id": "0d4df39d-df62-4917-a6b7-34208a273be0",
   "metadata": {},
   "outputs": [
    {
     "ename": "UnicodeDecodeError",
     "evalue": "'charmap' codec can't decode byte 0x81 in position 637: character maps to <undefined>",
     "output_type": "error",
     "traceback": [
      "\u001b[1;31m---------------------------------------------------------------------------\u001b[0m",
      "\u001b[1;31mUnicodeDecodeError\u001b[0m                        Traceback (most recent call last)",
      "Cell \u001b[1;32mIn[37], line 3\u001b[0m\n\u001b[0;32m      1\u001b[0m \u001b[38;5;66;03m# Files\u001b[39;00m\n\u001b[0;32m      2\u001b[0m f\u001b[38;5;241m=\u001b[39m\u001b[38;5;28mopen\u001b[39m(\u001b[38;5;124mr\u001b[39m\u001b[38;5;124m\"\u001b[39m\u001b[38;5;124mC:\u001b[39m\u001b[38;5;124m\\\u001b[39m\u001b[38;5;124mUsers\u001b[39m\u001b[38;5;124m\\\u001b[39m\u001b[38;5;124mSAMSUNG\u001b[39m\u001b[38;5;124m\\\u001b[39m\u001b[38;5;124mDocuments\u001b[39m\u001b[38;5;124m\\\u001b[39m\u001b[38;5;124mdemo.txt\u001b[39m\u001b[38;5;124m\\\u001b[39m\u001b[38;5;124mdemo.txt.docx\u001b[39m\u001b[38;5;124m\"\u001b[39m) \u001b[38;5;66;03m# f is file handle or file objects\u001b[39;00m\n\u001b[1;32m----> 3\u001b[0m r\u001b[38;5;241m=\u001b[39mf\u001b[38;5;241m.\u001b[39mread() \u001b[38;5;66;03m# read the whole file\u001b[39;00m\n\u001b[0;32m      4\u001b[0m \u001b[38;5;28mprint\u001b[39m(r)\n\u001b[0;32m      5\u001b[0m f\u001b[38;5;241m.\u001b[39mclose()\n",
      "File \u001b[1;32m~\\anaconda3\\Lib\\encodings\\cp1252.py:23\u001b[0m, in \u001b[0;36mIncrementalDecoder.decode\u001b[1;34m(self, input, final)\u001b[0m\n\u001b[0;32m     22\u001b[0m \u001b[38;5;28;01mdef\u001b[39;00m\u001b[38;5;250m \u001b[39m\u001b[38;5;21mdecode\u001b[39m(\u001b[38;5;28mself\u001b[39m, \u001b[38;5;28minput\u001b[39m, final\u001b[38;5;241m=\u001b[39m\u001b[38;5;28;01mFalse\u001b[39;00m):\n\u001b[1;32m---> 23\u001b[0m     \u001b[38;5;28;01mreturn\u001b[39;00m codecs\u001b[38;5;241m.\u001b[39mcharmap_decode(\u001b[38;5;28minput\u001b[39m,\u001b[38;5;28mself\u001b[39m\u001b[38;5;241m.\u001b[39merrors,decoding_table)[\u001b[38;5;241m0\u001b[39m]\n",
      "\u001b[1;31mUnicodeDecodeError\u001b[0m: 'charmap' codec can't decode byte 0x81 in position 637: character maps to <undefined>"
     ]
    }
   ],
   "source": [
    "                                        # Files\n",
    "f=open(r\"C:\\Users\\SAMSUNG\\Documents\\demo.txt\\demo.txt.docx\") # f is file handle or file objects\n",
    "r=f.read() # read the whole file\n",
    "print(r)\n",
    "f.close() #should always  close at the end\n"
   ]
  },
  {
   "cell_type": "code",
   "execution_count": 6,
   "id": "728f991d-b03b-4684-96c5-857d1cdcebb4",
   "metadata": {},
   "outputs": [
    {
     "ename": "UnicodeDecodeError",
     "evalue": "'charmap' codec can't decode byte 0x81 in position 637: character maps to <undefined>",
     "output_type": "error",
     "traceback": [
      "\u001b[1;31m---------------------------------------------------------------------------\u001b[0m",
      "\u001b[1;31mUnicodeDecodeError\u001b[0m                        Traceback (most recent call last)",
      "Cell \u001b[1;32mIn[6], line 2\u001b[0m\n\u001b[0;32m      1\u001b[0m f\u001b[38;5;241m=\u001b[39m\u001b[38;5;28mopen\u001b[39m(\u001b[38;5;124m\"\u001b[39m\u001b[38;5;124mC:/Users/SAMSUNG/Documents/demo.txt.docx\u001b[39m\u001b[38;5;124m\"\u001b[39m) \u001b[38;5;66;03m# f is file handle or file objects\u001b[39;00m\n\u001b[1;32m----> 2\u001b[0m r\u001b[38;5;241m=\u001b[39mf\u001b[38;5;241m.\u001b[39mread() \u001b[38;5;66;03m# read the whole file\u001b[39;00m\n\u001b[0;32m      3\u001b[0m \u001b[38;5;28mprint\u001b[39m(r)\n\u001b[0;32m      4\u001b[0m f\u001b[38;5;241m.\u001b[39mclose()\n",
      "File \u001b[1;32m~\\anaconda3\\Lib\\encodings\\cp1252.py:23\u001b[0m, in \u001b[0;36mIncrementalDecoder.decode\u001b[1;34m(self, input, final)\u001b[0m\n\u001b[0;32m     22\u001b[0m \u001b[38;5;28;01mdef\u001b[39;00m\u001b[38;5;250m \u001b[39m\u001b[38;5;21mdecode\u001b[39m(\u001b[38;5;28mself\u001b[39m, \u001b[38;5;28minput\u001b[39m, final\u001b[38;5;241m=\u001b[39m\u001b[38;5;28;01mFalse\u001b[39;00m):\n\u001b[1;32m---> 23\u001b[0m     \u001b[38;5;28;01mreturn\u001b[39;00m codecs\u001b[38;5;241m.\u001b[39mcharmap_decode(\u001b[38;5;28minput\u001b[39m,\u001b[38;5;28mself\u001b[39m\u001b[38;5;241m.\u001b[39merrors,decoding_table)[\u001b[38;5;241m0\u001b[39m]\n",
      "\u001b[1;31mUnicodeDecodeError\u001b[0m: 'charmap' codec can't decode byte 0x81 in position 637: character maps to <undefined>"
     ]
    }
   ],
   "source": [
    "f=open(\"C:/Users/SAMSUNG/Documents/demo.txt.docx\") # f is file handle or file objects\n",
    "r=f.read() # read the whole file\n",
    "print(r)\n",
    "f.close() #should always  close at the end"
   ]
  },
  {
   "cell_type": "code",
   "execution_count": null,
   "id": "949feb6a-7723-4e98-a2fa-022f0deed4b1",
   "metadata": {},
   "outputs": [],
   "source": [
    "#f=open('mylife')\n",
    "line=f.readline() # reads one line\n",
    "print(line)\n",
    "f.close() "
   ]
  },
  {
   "cell_type": "code",
   "execution_count": 7,
   "id": "6456dce7-a21c-40b4-a9aa-471c51168cfd",
   "metadata": {},
   "outputs": [
    {
     "ename": "ModuleNotFoundError",
     "evalue": "No module named 'docx'",
     "output_type": "error",
     "traceback": [
      "\u001b[1;31m---------------------------------------------------------------------------\u001b[0m",
      "\u001b[1;31mModuleNotFoundError\u001b[0m                       Traceback (most recent call last)",
      "Cell \u001b[1;32mIn[7], line 1\u001b[0m\n\u001b[1;32m----> 1\u001b[0m \u001b[38;5;28;01mfrom\u001b[39;00m\u001b[38;5;250m \u001b[39m\u001b[38;5;21;01mdocx\u001b[39;00m\u001b[38;5;250m \u001b[39m\u001b[38;5;28;01mimport\u001b[39;00m Document\n\u001b[0;32m      3\u001b[0m \u001b[38;5;66;03m# Load the .docx file\u001b[39;00m\n\u001b[0;32m      4\u001b[0m doc \u001b[38;5;241m=\u001b[39m Document(\u001b[38;5;124m\"\u001b[39m\u001b[38;5;124mC:/Users/SAMSUNG/Documents/demo.txt.docx\u001b[39m\u001b[38;5;124m\"\u001b[39m)\n",
      "\u001b[1;31mModuleNotFoundError\u001b[0m: No module named 'docx'"
     ]
    }
   ],
   "source": [
    "from docx import Document\n",
    "\n",
    "# Load the .docx file\n",
    "doc = Document(\"C:/Users/SAMSUNG/Documents/demo.txt.docx\")\n",
    "\n",
    "# Read and print all paragraphs\n",
    "for para in doc.paragraphs:\n",
    "    print(para.text)\n"
   ]
  },
  {
   "cell_type": "code",
   "execution_count": null,
   "id": "af06b3bc-5014-48a7-b3e6-1720b2ec997f",
   "metadata": {},
   "outputs": [],
   "source": []
  }
 ],
 "metadata": {
  "kernelspec": {
   "display_name": "Python [conda env:base] *",
   "language": "python",
   "name": "conda-base-py"
  },
  "language_info": {
   "codemirror_mode": {
    "name": "ipython",
    "version": 3
   },
   "file_extension": ".py",
   "mimetype": "text/x-python",
   "name": "python",
   "nbconvert_exporter": "python",
   "pygments_lexer": "ipython3",
   "version": "3.13.5"
  }
 },
 "nbformat": 4,
 "nbformat_minor": 5
}
